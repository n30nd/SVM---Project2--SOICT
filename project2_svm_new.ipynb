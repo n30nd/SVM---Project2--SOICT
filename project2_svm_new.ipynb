{
  "metadata": {
    "kernelspec": {
      "language": "python",
      "display_name": "Python 3",
      "name": "python3"
    },
    "language_info": {
      "name": "python",
      "version": "3.10.13",
      "mimetype": "text/x-python",
      "codemirror_mode": {
        "name": "ipython",
        "version": 3
      },
      "pygments_lexer": "ipython3",
      "nbconvert_exporter": "python",
      "file_extension": ".py"
    },
    "kaggle": {
      "accelerator": "none",
      "dataSources": [
        {
          "sourceId": 1142306,
          "sourceType": "datasetVersion",
          "datasetId": 644196
        },
        {
          "sourceType": "datasetVersion",
          "sourceId": 2458387,
          "datasetId": 1487966
        }
      ],
      "dockerImageVersionId": 30698,
      "isInternetEnabled": false,
      "language": "python",
      "sourceType": "notebook",
      "isGpuEnabled": false
    },
    "colab": {
      "provenance": [],
      "toc_visible": true,
      "include_colab_link": true
    }
  },
  "nbformat_minor": 0,
  "nbformat": 4,
  "cells": [
    {
      "cell_type": "markdown",
      "metadata": {
        "id": "view-in-github",
        "colab_type": "text"
      },
      "source": [
        "<a href=\"https://colab.research.google.com/github/n30nd/SVM---Project2--SOICT/blob/main/project2_svm_new.ipynb\" target=\"_parent\"><img src=\"https://colab.research.google.com/assets/colab-badge.svg\" alt=\"Open In Colab\"/></a>"
      ]
    },
    {
      "cell_type": "markdown",
      "source": [
        "# **Project 2: Tìm hiểu thuật toán SVM và ứng dụng trong phân loại ảnh**\n",
        "\n",
        "Sinh viên: Vũ Quang Nam - 20215622\n",
        "\n",
        "GVHD: Ts. Đỗ Tiến Dũng"
      ],
      "metadata": {
        "id": "tMEN0O9sFWt_"
      }
    },
    {
      "cell_type": "markdown",
      "source": [
        "Máy Vector Hỗ Trợ (Support Vector Machines hay SVMs) là các thuật toán học máy giám sát được sử dụng cho mục đích phân loại và hồi quy. Trong bài viết này, em xây dựng một bộ phân loại Máy Vector Hỗ Trợ để phân loại một ngôi sao Pulsar. Em đã sử dụng bộ dữ liệu \"Predicting a Pulsar Star\" cho dự án này."
      ],
      "metadata": {
        "id": "Nw5XbGA7FWuB"
      }
    },
    {
      "cell_type": "markdown",
      "source": [
        "# 1. Giới thiệu thuật toán Support Vector Machines\n",
        "**Siêu Phẳng (Hyperplane)**\n",
        "\n",
        "Một siêu phẳng là ranh giới quyết định phân chia giữa các điểm dữ liệu được cho với các nhãn lớp khác nhau. Bộ phân loại SVM phân chia các điểm dữ liệu bằng một siêu phẳng có độ lớn lớn nhất của ranh giới. Siêu phẳng này được biết đến là siêu phẳng độ lớn tối đa và bộ phân loại tuyến tính mà nó xác định được biết đến là bộ phân loại độ lớn tối đa (maximum margin classifier).\n",
        "\n",
        "**Các Vector Hỗ Trợ (Support Vectors)**\n",
        "\n",
        "Các vector hỗ trợ là các điểm dữ liệu mẫu, gần nhất với siêu phẳng. Những điểm dữ liệu này sẽ xác định đường thẳng hoặc siêu phẳng phân chia tốt hơn bằng cách tính toán các ranh giới.\n",
        "\n",
        "**Ranh Giới (Margin)**\n",
        "\n",
        "Một ranh giới là khoảng cách phân chia giữa hai đường trên các điểm dữ liệu gần nhất. Nó được tính toán là khoảng cách vuông góc từ đường tới các vector hỗ trợ hoặc các điểm dữ liệu gần nhất. Trong SVMs, chúng ta cố gắng tối đa hóa khoảng cách phân chia này để có được ranh giới lớn nhất.\n",
        "\n",
        "Hình ảnh sau đây minh họa các khái niệm này một cách trực quan.\n",
        "\n",
        " ![image.png](attachment:3a633fa3-9c86-40fb-9f89-ea8160844e35.png)\n",
        "\n",
        "\n",
        "**SVM Dưới Bộ Trang Bị**\n",
        "\n",
        "Trong SVMs, mục tiêu chính của chúng ta là chọn một siêu phẳng với độ lớn ranh giới tối đa giữa các vector hỗ trợ trong tập dữ liệu đã cho. SVM tìm kiếm siêu phẳng độ lớn tối đa trong quá trình 2 bước sau:\n",
        "\n",
        "1. Tạo ra các siêu phẳng phân tách các lớp một cách tốt nhất có thể. Có nhiều siêu phẳng có thể phân loại dữ liệu. Chúng ta nên tìm kiếm siêu phẳng tốt nhất mà đại diện cho sự phân chia lớn nhất, hoặc ranh giới, giữa hai lớp.\n",
        "2. Vì vậy, chúng ta chọn siêu phẳng sao cho khoảng cách từ nó đến các vector hỗ trợ ở mỗi bên được tối đa hóa. Nếu tồn tại một siêu phẳng như vậy, nó được biết đến là siêu phẳng độ lớn tối đa và bộ phân loại tuyến tính mà nó xác định được biết đến là một bộ phân loại độ lớn tối đa.\n",
        "\n",
        "Hình ảnh dưới đây minh họa khái niệm về ranh giới tối đa và siêu phẳng độ lớn tối đa một cách rõ ràng.\n",
        "\n",
        "**Siêu phẳng lề tối đa**\n",
        "![image.png](attachment:cd6dee65-31d6-4a0f-b3a6-cbfedc66f077.png)\n",
        "\n",
        "**Vấn Đề với Các Bộ Dữ Liệu Phân Tán**\n",
        "\n",
        "Đôi khi, các điểm dữ liệu mẫu được phân tán đến mức không thể phân chia chúng bằng một siêu phẳng tuyến tính. Trong tình huống như vậy, SVMs sử dụng một kỹ thuật kernel trick để chuyển đổi không gian đầu vào thành không gian chiều cao hơn như được thể hiện trong hình dưới đây. Nó sử dụng một hàm ánh xạ để chuyển đổi không gian đầu vào 2-D thành không gian đầu vào 3-D. Bây giờ, chúng ta có thể dễ dàng phân chia các điểm dữ liệu bằng cách sử dụng phân chia tuyến tính.\n",
        "\n",
        "# 2. Kernel trick (Kỹ thuật hạt nhân)\n",
        "\n",
        "Trong thực tế, thuật toán SVM được thực hiện sử dụng một kernel. Nó sử dụng một kỹ thuật được gọi là kernel trick (Kỹ thuật hạt nhân). Đơn giản, một kernel chỉ là một hàm biến đổi dữ liệu thành một không gian chiều cao hơn nơi mà dữ liệu có thể phân tách được. Một kernel chuyển đổi không gian dữ liệu đầu vào chiều thấp thành một không gian chiều cao hơn. Do đó, nó chuyển đổi các vấn đề không tuyến tính phân chia thành các vấn đề tuyến tính phân chia bằng cách thêm các chiều vào. Vì vậy, kernel trick giúp chúng ta xây dựng một bộ phân loại chính xác hơn. Do đó, nó hữu ích trong các vấn đề phân tách không tuyến tính.\n",
        "\n",
        "Chúng ta có thể định nghĩa một hàm kernel như sau:\n",
        "\n",
        "Hàm hạt nhân\n",
        "\n",
        "![image.png](attachment:7efa59ae-5f31-4a43-9ec1-bfd60b23c6e6.png)\n",
        "\n",
        "\n",
        "Trong ngữ cảnh của SVMs, có 4 kernel phổ biến – Kernel Tuyến tính, Kernel Đa thức, Kernel Hàm Cơ sở Đa tuyến (RBF) (còn được gọi là kernel Gaussian) và Kernel Sigmoid. Chúng được mô tả như sau\n",
        "\n",
        "# 2.1 Linear kernel (Hạt nhân tuyến tính)\n",
        "\n",
        "Trong kernel tuyến tính, hàm kernel có dạng là một hàm tuyến tính như sau:\n",
        "\n",
        "**Kernel tuyến tính: K(xi , xj ) = xiT xj**\n",
        "\n",
        "Kernel tuyến tính được sử dụng khi dữ liệu có thể phân chia tuyến tính. Điều này có nghĩa là dữ liệu có thể được phân chia bằng một đường thẳng duy nhất. Đây là một trong những kernel phổ biến nhất được sử dụng. Nó thường được sử dụng khi có một số lượng lớn các đặc trưng trong tập dữ liệu. Kernel tuyến tính thường được sử dụng cho mục đích phân loại văn bản.\n",
        "\n",
        "Việc huấn luyện với kernel tuyến tính thường nhanh hơn, vì chúng ta chỉ cần tối ưu hóa tham số điều chuẩn C. Khi huấn luyện với các kernel khác, chúng ta cũng cần tối ưu hóa tham số γ. Vì vậy, việc thực hiện tìm kiếm trên lưới (grid search) thường sẽ mất nhiều thời gian hơn.\n",
        "\n",
        "Kernel tuyến tính có thể được minh họa bằng hình dưới đây.\n",
        "\n",
        "**Kernel Tuyến Tính**\n",
        "\n",
        "![image.png](attachment:07bfdc6e-143e-4f1c-b8b2-7aab5c393728.png)\n",
        "\n",
        "# 2.2 Polynomial Kernel (Kernel Đa Thức)\n",
        "\n",
        "Kernel đa thức biểu diễn sự tương đồng của các vector (mẫu huấn luyện) trong không gian đặc trưng qua đa thức của các biến ban đầu. Kernel đa thức không chỉ xem xét các đặc trưng đã cho của các mẫu đầu vào để xác định sự tương đồng của chúng, mà còn xem xét các kết hợp của các mẫu đầu vào.\n",
        "\n",
        "Đối với đa thức bậc d, kernel đa thức được định nghĩa như sau -\n",
        "\n",
        "**Kernel đa thức : K(xi , xj ) = (γxiT xj + r)^d , γ > 0**\n",
        "\n",
        "Kernel đa thức rất phổ biến trong Xử lý Ngôn Ngữ Tự Nhiên. Bậc thường gặp nhất là d = 2 (bậc hai), vì các bậc lớn hơn có xu hướng overfitting trên các vấn đề NLP. Nó có thể được minh họa bằng hình dưới đây.\n",
        "\n",
        "**Kernel Đa Thức**\n",
        "\n",
        "![image.png](attachment:e23a5ac8-56dc-4596-8a6f-7056f0c76ed8.png)\n",
        "\n",
        "# 2.3 Kernel Hàm Cơ sở Đa Tuyến (RBF)\n",
        "\n",
        "Kernel hàm cơ sở đa tuyến là một kernel đa dụng. Nó được sử dụng khi chúng ta không có kiến thức trước về dữ liệu. Kernel RBF trên hai mẫu x và y được định nghĩa bởi phương trình sau:\n",
        "\n",
        "**Kernel Hàm Cơ Sở Đa Tuyến (RBF)**\n",
        "\n",
        "![image.png](attachment:a726ad03-53fa-4ae6-9377-a293e287862c.png)\n",
        "\n",
        "\n",
        "Hình dưới đây minh họa quá trình phân loại SVM sử dụng kernel RBF.\n",
        "\n",
        "Phân Loại SVM với kernel RBF\n",
        "\n",
        "\n",
        "![image.png](attachment:82d4bf99-ff62-4ef6-b637-ff44ded68ec3.png)\n",
        "\n",
        "# 2.4 Kernel Sigmoid\n",
        "\n",
        "Kernel Sigmoid có nguồn gốc từ mạng neural. Chúng ta có thể sử dụng nó như là một phương pháp đại diện cho mạng neural. Kernel Sigmoid được định nghĩa bởi phương trình sau\n",
        "\n",
        "**kernel sigmoid : k (x, y) = tanh(αxTy + c)**\n",
        "\n",
        "Kernel Sigmoid có thể được minh họa bằng hình dưới đây -\n",
        "\n",
        "**Kernel Sigmoid\n",
        "**\n",
        "\n",
        "![image.png](attachment:7a9c4c73-17d1-4510-81cd-7757314feddb.png)\n",
        "\n",
        "# 3. Thư viện SVM Scikit-Learn\n",
        "\n",
        "Scikit-Learn cung cấp các thư viện hữu ích để triển khai thuật toán Support Vector Machine trên một tập dữ liệu. Có rất nhiều thư viện có thể giúp chúng ta triển khai SVM một cách mượt mà. Chúng ta chỉ cần gọi thư viện với các tham số phù hợp với nhu cầu của chúng ta. Trong dự án này, em đang xử lý một nhiệm vụ phân loại. Vì vậy, em sẽ đề cập đến các thư viện Scikit-Learn cho mục đích phân loại SVM.\n",
        "\n",
        "Đầu tiên, có một bộ phân loại LinearSVC(). Như tên gọi, bộ phân loại này chỉ sử dụng kernel tuyến tính. Trong bộ phân loại LinearSVC(), chúng ta không cần truyền giá trị của kernel vì nó chỉ được sử dụng cho mục đích phân loại tuyến tính.\n",
        "\n",
        "Scikit-Learn cung cấp hai bộ phân loại khác - SVC() và NuSVC() được sử dụng cho mục đích phân loại. Các bộ phân loại này phần lớn tương tự nhau với một số khác biệt về các tham số. NuSVC() tương tự như SVC() nhưng sử dụng một tham số để điều chỉnh số lượng vector hỗ trợ. Chúng ta truyền các giá trị của kernel, gamma và C cùng với các tham số khác. Mặc định, tham số kernel sử dụng rbf như giá trị của nó nhưng chúng ta có thể truyền các giá trị như poly, linear, sigmoid hoặc hàm gọi được (callable function).\n",
        "\n",
        "# 4. Mô tả bộ dữ liệu\n",
        "\n",
        "Em đã sử dụng bộ dữ liệu \"Predicting a Pulsar Star\" cho dự án này.\n",
        "\n",
        "Pulsars là một loại hiếm hoi của sao neutron tạo ra sóng radio có thể phát hiện được trên Trái Đất. Chúng có sự quan tâm lớn của khoa học như là công cụ nghiên cứu về không gian-thời gian, môi trường liên sao và các trạng thái của vật chất. Các thuật toán phân loại đặc biệt đang được áp dụng, xử lý bộ dữ liệu như là các vấn đề phân loại nhị phân. Ở đây, các ví dụ pulsar hợp lệ tạo thành lớp tích cực ít và các ví dụ giả tạo tạo thành lớp tiêu cực đa số.\n",
        "\n",
        "Bộ dữ liệu được chia sẻ ở đây chứa 16,259 ví dụ giả tạo do RFI/nhiễu, và 1,639 ví dụ pulsar thực. Mỗi hàng liệt kê trước các biến và nhãn lớp là mục nhập cuối cùng. Các nhãn lớp được sử dụng là 0 (âm) và 1 (dương).\n",
        "\n",
        "Thông Tin Thuộc Tính:\n",
        "Mỗi ứng viên được mô tả bởi 8 biến liên tục, và một biến lớp duy nhất. Bốn biến đầu tiên là thống kê đơn giản được thu được từ hồi quy xung tích hợp. Bốn biến còn lại được thu được tương tự từ đường cong DM-SNR. Các biến này được tóm tắt như sau:\n",
        "\n",
        "1. Giá trị trung bình (Mean) của hồi quy tích hợp.\n",
        "2. Độ lệch chuẩn (Standard deviation) của hồi quy tích hợp.\n",
        "3. Độ nhọn quá mức (Excess kurtosis) của hồi quy tích hợp.\n",
        "4. Độ lệch (Skewness) của hồi quy tích hợp.\n",
        "5. Giá trị trung bình của đường cong DM-SNR.\n",
        "6. Độ lệch chuẩn (Standard deviation) của đường cong DM-SNR.\n",
        "7. Độ nhọn quá mức (Excess kurtosis) của đường cong DM-SNR.\n",
        "8. Độ lệch (Skewness) của đường cong DM-SNR.\n",
        "9. Lớp\n",
        "\n",
        "\n",
        "\n",
        "# 5. Import thư viện\n",
        "\n",
        "Nhập các thư viện Python cần thiết."
      ],
      "metadata": {
        "id": "L_Tm3GONFWuB"
      }
    },
    {
      "cell_type": "code",
      "source": [
        "# This Python 3 environment comes with many helpful analytics libraries installed\n",
        "# It is defined by the kaggle/python docker image: https://github.com/kaggle/docker-python\n",
        "# For example, here's several helpful packages to load in\n",
        "\n",
        "import numpy as np # linear algebra\n",
        "import pandas as pd # data processing, CSV file I/O (e.g. pd.read_csv)\n",
        "import matplotlib.pyplot as plt # for data visualization\n",
        "import seaborn as sns # for statistical data visualization\n",
        "%matplotlib inline\n",
        "\n",
        "# Input data files are available in the \"../input/\" directory.\n",
        "# For example, running this (by clicking run or pressing Shift+Enter) will list all files under the input directory\n",
        "\n",
        "import os\n",
        "for dirname, _, filenames in os.walk('/kaggle/input'):\n",
        "    for filename in filenames:\n",
        "        print(os.path.join(dirname, filename))\n",
        "\n",
        "# Any results you write to the current directory are saved as output."
      ],
      "metadata": {
        "_uuid": "8f2839f25d086af736a60e9eeb907d3b93b6e0e5",
        "_cell_guid": "b1076dfc-b9ad-4769-8c92-a6c4dae69d19",
        "execution": {
          "iopub.status.busy": "2024-04-24T16:06:32.062414Z",
          "iopub.execute_input": "2024-04-24T16:06:32.062867Z",
          "iopub.status.idle": "2024-04-24T16:06:35.466273Z",
          "shell.execute_reply.started": "2024-04-24T16:06:32.062833Z",
          "shell.execute_reply": "2024-04-24T16:06:35.465372Z"
        },
        "trusted": true,
        "id": "ceynK8i9FWuC"
      },
      "execution_count": 1,
      "outputs": []
    },
    {
      "cell_type": "code",
      "source": [
        "import warnings\n",
        "\n",
        "warnings.filterwarnings('ignore') #Tắt cảnh báo"
      ],
      "metadata": {
        "execution": {
          "iopub.status.busy": "2024-04-24T16:06:35.468378Z",
          "iopub.execute_input": "2024-04-24T16:06:35.469714Z",
          "iopub.status.idle": "2024-04-24T16:06:35.474675Z",
          "shell.execute_reply.started": "2024-04-24T16:06:35.469668Z",
          "shell.execute_reply": "2024-04-24T16:06:35.473561Z"
        },
        "trusted": true,
        "id": "q1kv8CkXFWuD"
      },
      "execution_count": 2,
      "outputs": []
    },
    {
      "cell_type": "markdown",
      "source": [
        "# 6. Nhập bộ dữ liệu"
      ],
      "metadata": {
        "id": "zBzr_0myFWuD"
      }
    },
    {
      "cell_type": "code",
      "source": [
        "data = '/kaggle/input/pulsar-dataset/pulsar_stars.csv'\n",
        "\n",
        "df = pd.read_csv(data)\n",
        "print('READ OK')"
      ],
      "metadata": {
        "execution": {
          "iopub.status.busy": "2024-04-24T16:06:35.476949Z",
          "iopub.execute_input": "2024-04-24T16:06:35.477591Z",
          "iopub.status.idle": "2024-04-24T16:06:35.578366Z",
          "shell.execute_reply.started": "2024-04-24T16:06:35.477557Z",
          "shell.execute_reply": "2024-04-24T16:06:35.577286Z"
        },
        "trusted": true,
        "colab": {
          "base_uri": "https://localhost:8080/",
          "height": 356
        },
        "id": "2y6-MN8SFWuD",
        "outputId": "53d0102e-b783-4399-e198-315f3a105393"
      },
      "execution_count": 3,
      "outputs": [
        {
          "output_type": "error",
          "ename": "FileNotFoundError",
          "evalue": "[Errno 2] No such file or directory: '/kaggle/input/pulsar-dataset/pulsar_stars.csv'",
          "traceback": [
            "\u001b[0;31m---------------------------------------------------------------------------\u001b[0m",
            "\u001b[0;31mFileNotFoundError\u001b[0m                         Traceback (most recent call last)",
            "\u001b[0;32m<ipython-input-3-97dde40ac115>\u001b[0m in \u001b[0;36m<cell line: 3>\u001b[0;34m()\u001b[0m\n\u001b[1;32m      1\u001b[0m \u001b[0mdata\u001b[0m \u001b[0;34m=\u001b[0m \u001b[0;34m'/kaggle/input/pulsar-dataset/pulsar_stars.csv'\u001b[0m\u001b[0;34m\u001b[0m\u001b[0;34m\u001b[0m\u001b[0m\n\u001b[1;32m      2\u001b[0m \u001b[0;34m\u001b[0m\u001b[0m\n\u001b[0;32m----> 3\u001b[0;31m \u001b[0mdf\u001b[0m \u001b[0;34m=\u001b[0m \u001b[0mpd\u001b[0m\u001b[0;34m.\u001b[0m\u001b[0mread_csv\u001b[0m\u001b[0;34m(\u001b[0m\u001b[0mdata\u001b[0m\u001b[0;34m)\u001b[0m\u001b[0;34m\u001b[0m\u001b[0;34m\u001b[0m\u001b[0m\n\u001b[0m\u001b[1;32m      4\u001b[0m \u001b[0mprint\u001b[0m\u001b[0;34m(\u001b[0m\u001b[0;34m'READ OK'\u001b[0m\u001b[0;34m)\u001b[0m\u001b[0;34m\u001b[0m\u001b[0;34m\u001b[0m\u001b[0m\n",
            "\u001b[0;32m/usr/local/lib/python3.10/dist-packages/pandas/io/parsers/readers.py\u001b[0m in \u001b[0;36mread_csv\u001b[0;34m(filepath_or_buffer, sep, delimiter, header, names, index_col, usecols, dtype, engine, converters, true_values, false_values, skipinitialspace, skiprows, skipfooter, nrows, na_values, keep_default_na, na_filter, verbose, skip_blank_lines, parse_dates, infer_datetime_format, keep_date_col, date_parser, date_format, dayfirst, cache_dates, iterator, chunksize, compression, thousands, decimal, lineterminator, quotechar, quoting, doublequote, escapechar, comment, encoding, encoding_errors, dialect, on_bad_lines, delim_whitespace, low_memory, memory_map, float_precision, storage_options, dtype_backend)\u001b[0m\n\u001b[1;32m    910\u001b[0m     \u001b[0mkwds\u001b[0m\u001b[0;34m.\u001b[0m\u001b[0mupdate\u001b[0m\u001b[0;34m(\u001b[0m\u001b[0mkwds_defaults\u001b[0m\u001b[0;34m)\u001b[0m\u001b[0;34m\u001b[0m\u001b[0;34m\u001b[0m\u001b[0m\n\u001b[1;32m    911\u001b[0m \u001b[0;34m\u001b[0m\u001b[0m\n\u001b[0;32m--> 912\u001b[0;31m     \u001b[0;32mreturn\u001b[0m \u001b[0m_read\u001b[0m\u001b[0;34m(\u001b[0m\u001b[0mfilepath_or_buffer\u001b[0m\u001b[0;34m,\u001b[0m \u001b[0mkwds\u001b[0m\u001b[0;34m)\u001b[0m\u001b[0;34m\u001b[0m\u001b[0;34m\u001b[0m\u001b[0m\n\u001b[0m\u001b[1;32m    913\u001b[0m \u001b[0;34m\u001b[0m\u001b[0m\n\u001b[1;32m    914\u001b[0m \u001b[0;34m\u001b[0m\u001b[0m\n",
            "\u001b[0;32m/usr/local/lib/python3.10/dist-packages/pandas/io/parsers/readers.py\u001b[0m in \u001b[0;36m_read\u001b[0;34m(filepath_or_buffer, kwds)\u001b[0m\n\u001b[1;32m    575\u001b[0m \u001b[0;34m\u001b[0m\u001b[0m\n\u001b[1;32m    576\u001b[0m     \u001b[0;31m# Create the parser.\u001b[0m\u001b[0;34m\u001b[0m\u001b[0;34m\u001b[0m\u001b[0m\n\u001b[0;32m--> 577\u001b[0;31m     \u001b[0mparser\u001b[0m \u001b[0;34m=\u001b[0m \u001b[0mTextFileReader\u001b[0m\u001b[0;34m(\u001b[0m\u001b[0mfilepath_or_buffer\u001b[0m\u001b[0;34m,\u001b[0m \u001b[0;34m**\u001b[0m\u001b[0mkwds\u001b[0m\u001b[0;34m)\u001b[0m\u001b[0;34m\u001b[0m\u001b[0;34m\u001b[0m\u001b[0m\n\u001b[0m\u001b[1;32m    578\u001b[0m \u001b[0;34m\u001b[0m\u001b[0m\n\u001b[1;32m    579\u001b[0m     \u001b[0;32mif\u001b[0m \u001b[0mchunksize\u001b[0m \u001b[0;32mor\u001b[0m \u001b[0miterator\u001b[0m\u001b[0;34m:\u001b[0m\u001b[0;34m\u001b[0m\u001b[0;34m\u001b[0m\u001b[0m\n",
            "\u001b[0;32m/usr/local/lib/python3.10/dist-packages/pandas/io/parsers/readers.py\u001b[0m in \u001b[0;36m__init__\u001b[0;34m(self, f, engine, **kwds)\u001b[0m\n\u001b[1;32m   1405\u001b[0m \u001b[0;34m\u001b[0m\u001b[0m\n\u001b[1;32m   1406\u001b[0m         \u001b[0mself\u001b[0m\u001b[0;34m.\u001b[0m\u001b[0mhandles\u001b[0m\u001b[0;34m:\u001b[0m \u001b[0mIOHandles\u001b[0m \u001b[0;34m|\u001b[0m \u001b[0;32mNone\u001b[0m \u001b[0;34m=\u001b[0m \u001b[0;32mNone\u001b[0m\u001b[0;34m\u001b[0m\u001b[0;34m\u001b[0m\u001b[0m\n\u001b[0;32m-> 1407\u001b[0;31m         \u001b[0mself\u001b[0m\u001b[0;34m.\u001b[0m\u001b[0m_engine\u001b[0m \u001b[0;34m=\u001b[0m \u001b[0mself\u001b[0m\u001b[0;34m.\u001b[0m\u001b[0m_make_engine\u001b[0m\u001b[0;34m(\u001b[0m\u001b[0mf\u001b[0m\u001b[0;34m,\u001b[0m \u001b[0mself\u001b[0m\u001b[0;34m.\u001b[0m\u001b[0mengine\u001b[0m\u001b[0;34m)\u001b[0m\u001b[0;34m\u001b[0m\u001b[0;34m\u001b[0m\u001b[0m\n\u001b[0m\u001b[1;32m   1408\u001b[0m \u001b[0;34m\u001b[0m\u001b[0m\n\u001b[1;32m   1409\u001b[0m     \u001b[0;32mdef\u001b[0m \u001b[0mclose\u001b[0m\u001b[0;34m(\u001b[0m\u001b[0mself\u001b[0m\u001b[0;34m)\u001b[0m \u001b[0;34m->\u001b[0m \u001b[0;32mNone\u001b[0m\u001b[0;34m:\u001b[0m\u001b[0;34m\u001b[0m\u001b[0;34m\u001b[0m\u001b[0m\n",
            "\u001b[0;32m/usr/local/lib/python3.10/dist-packages/pandas/io/parsers/readers.py\u001b[0m in \u001b[0;36m_make_engine\u001b[0;34m(self, f, engine)\u001b[0m\n\u001b[1;32m   1659\u001b[0m                 \u001b[0;32mif\u001b[0m \u001b[0;34m\"b\"\u001b[0m \u001b[0;32mnot\u001b[0m \u001b[0;32min\u001b[0m \u001b[0mmode\u001b[0m\u001b[0;34m:\u001b[0m\u001b[0;34m\u001b[0m\u001b[0;34m\u001b[0m\u001b[0m\n\u001b[1;32m   1660\u001b[0m                     \u001b[0mmode\u001b[0m \u001b[0;34m+=\u001b[0m \u001b[0;34m\"b\"\u001b[0m\u001b[0;34m\u001b[0m\u001b[0;34m\u001b[0m\u001b[0m\n\u001b[0;32m-> 1661\u001b[0;31m             self.handles = get_handle(\n\u001b[0m\u001b[1;32m   1662\u001b[0m                 \u001b[0mf\u001b[0m\u001b[0;34m,\u001b[0m\u001b[0;34m\u001b[0m\u001b[0;34m\u001b[0m\u001b[0m\n\u001b[1;32m   1663\u001b[0m                 \u001b[0mmode\u001b[0m\u001b[0;34m,\u001b[0m\u001b[0;34m\u001b[0m\u001b[0;34m\u001b[0m\u001b[0m\n",
            "\u001b[0;32m/usr/local/lib/python3.10/dist-packages/pandas/io/common.py\u001b[0m in \u001b[0;36mget_handle\u001b[0;34m(path_or_buf, mode, encoding, compression, memory_map, is_text, errors, storage_options)\u001b[0m\n\u001b[1;32m    857\u001b[0m         \u001b[0;32mif\u001b[0m \u001b[0mioargs\u001b[0m\u001b[0;34m.\u001b[0m\u001b[0mencoding\u001b[0m \u001b[0;32mand\u001b[0m \u001b[0;34m\"b\"\u001b[0m \u001b[0;32mnot\u001b[0m \u001b[0;32min\u001b[0m \u001b[0mioargs\u001b[0m\u001b[0;34m.\u001b[0m\u001b[0mmode\u001b[0m\u001b[0;34m:\u001b[0m\u001b[0;34m\u001b[0m\u001b[0;34m\u001b[0m\u001b[0m\n\u001b[1;32m    858\u001b[0m             \u001b[0;31m# Encoding\u001b[0m\u001b[0;34m\u001b[0m\u001b[0;34m\u001b[0m\u001b[0m\n\u001b[0;32m--> 859\u001b[0;31m             handle = open(\n\u001b[0m\u001b[1;32m    860\u001b[0m                 \u001b[0mhandle\u001b[0m\u001b[0;34m,\u001b[0m\u001b[0;34m\u001b[0m\u001b[0;34m\u001b[0m\u001b[0m\n\u001b[1;32m    861\u001b[0m                 \u001b[0mioargs\u001b[0m\u001b[0;34m.\u001b[0m\u001b[0mmode\u001b[0m\u001b[0;34m,\u001b[0m\u001b[0;34m\u001b[0m\u001b[0;34m\u001b[0m\u001b[0m\n",
            "\u001b[0;31mFileNotFoundError\u001b[0m: [Errno 2] No such file or directory: '/kaggle/input/pulsar-dataset/pulsar_stars.csv'"
          ]
        }
      ]
    },
    {
      "cell_type": "markdown",
      "source": [
        "# 7. Phân tích khám phá dữ liệu\n",
        "\n",
        "Bây giờ, em sẽ phân tích dữ liệu để có cái nhìn sâu hơn về bộ dữ liệu."
      ],
      "metadata": {
        "id": "rgXI_0dIFWuD"
      }
    },
    {
      "cell_type": "code",
      "source": [
        "# view dimensions of dataset\n",
        "\n",
        "df.shape"
      ],
      "metadata": {
        "execution": {
          "iopub.status.busy": "2024-04-24T16:06:35.580761Z",
          "iopub.execute_input": "2024-04-24T16:06:35.581101Z",
          "iopub.status.idle": "2024-04-24T16:06:35.589568Z",
          "shell.execute_reply.started": "2024-04-24T16:06:35.581073Z",
          "shell.execute_reply": "2024-04-24T16:06:35.588448Z"
        },
        "trusted": true,
        "id": "AjYW8PDkFWuD"
      },
      "execution_count": null,
      "outputs": []
    },
    {
      "cell_type": "code",
      "source": [
        "# let's preview the dataset\n",
        "\n",
        "df.head()"
      ],
      "metadata": {
        "execution": {
          "iopub.status.busy": "2024-04-24T16:06:35.591031Z",
          "iopub.execute_input": "2024-04-24T16:06:35.591499Z",
          "iopub.status.idle": "2024-04-24T16:06:35.629811Z",
          "shell.execute_reply.started": "2024-04-24T16:06:35.591467Z",
          "shell.execute_reply": "2024-04-24T16:06:35.628620Z"
        },
        "trusted": true,
        "id": "wtpCxaeGFWuE"
      },
      "execution_count": null,
      "outputs": []
    },
    {
      "cell_type": "markdown",
      "source": [
        "Chúng ta có thể thấy rằng có 9 biến trong tập dữ liệu. 8 biến là biến liên tục và 1 biến là biến rời rạc. Biến rời rạc đó là biến target_class. Đây cũng là biến mục tiêu.\n",
        "\n",
        "Bây giờ, em sẽ xem tên các cột để kiểm tra xem có khoảng trắng ở đầu và cuối không."
      ],
      "metadata": {
        "id": "tHJgZGlWFWuE"
      }
    },
    {
      "cell_type": "code",
      "source": [
        "# view the column names of the dataframe\n",
        "\n",
        "col_names = df.columns\n",
        "\n",
        "col_names"
      ],
      "metadata": {
        "execution": {
          "iopub.status.busy": "2024-04-24T16:06:35.633838Z",
          "iopub.execute_input": "2024-04-24T16:06:35.634217Z",
          "iopub.status.idle": "2024-04-24T16:06:35.641573Z",
          "shell.execute_reply.started": "2024-04-24T16:06:35.634172Z",
          "shell.execute_reply": "2024-04-24T16:06:35.640232Z"
        },
        "trusted": true,
        "id": "pexC9nUnFWuE"
      },
      "execution_count": null,
      "outputs": []
    },
    {
      "cell_type": "markdown",
      "source": [
        "Chúng ta có thể thấy rằng có các khoảng trắng ở đầu (khoảng trắng ở đầu tên chuỗi) trong dataframe. Vì vậy, em sẽ loại bỏ những khoảng trắng này."
      ],
      "metadata": {
        "id": "LdnzW99QFWuE"
      }
    },
    {
      "cell_type": "code",
      "source": [
        "# remove leading spaces from column names\n",
        "\n",
        "df.columns = df.columns.str.strip()"
      ],
      "metadata": {
        "execution": {
          "iopub.status.busy": "2024-04-24T16:06:35.643436Z",
          "iopub.execute_input": "2024-04-24T16:06:35.643911Z",
          "iopub.status.idle": "2024-04-24T16:06:35.651395Z",
          "shell.execute_reply.started": "2024-04-24T16:06:35.643869Z",
          "shell.execute_reply": "2024-04-24T16:06:35.650230Z"
        },
        "trusted": true,
        "id": "TWD8OcWMFWuE"
      },
      "execution_count": null,
      "outputs": []
    },
    {
      "cell_type": "code",
      "source": [
        "# view column names again\n",
        "\n",
        "df.columns"
      ],
      "metadata": {
        "execution": {
          "iopub.status.busy": "2024-04-24T16:06:35.652823Z",
          "iopub.execute_input": "2024-04-24T16:06:35.654506Z",
          "iopub.status.idle": "2024-04-24T16:06:35.665615Z",
          "shell.execute_reply.started": "2024-04-24T16:06:35.654468Z",
          "shell.execute_reply": "2024-04-24T16:06:35.664696Z"
        },
        "trusted": true,
        "id": "RCeagBtgFWuE"
      },
      "execution_count": null,
      "outputs": []
    },
    {
      "cell_type": "markdown",
      "source": [
        "Chúng ta có thể thấy rằng các khoảng trắng ở đầu đã được loại bỏ khỏi tên cột. Nhưng tên các cột rất dài. Vì vậy, em sẽ làm cho chúng ngắn hơn bằng cách đổi tên chúng."
      ],
      "metadata": {
        "id": "IiKP4Jv5FWuF"
      }
    },
    {
      "cell_type": "code",
      "source": [
        "# rename column names\n",
        "\n",
        "df.columns = ['IP Mean', 'IP Sd', 'IP Kurtosis', 'IP Skewness',\n",
        "              'DM-SNR Mean', 'DM-SNR Sd', 'DM-SNR Kurtosis', 'DM-SNR Skewness', 'target_class']"
      ],
      "metadata": {
        "execution": {
          "iopub.status.busy": "2024-04-24T16:06:35.666674Z",
          "iopub.execute_input": "2024-04-24T16:06:35.666980Z",
          "iopub.status.idle": "2024-04-24T16:06:35.682308Z",
          "shell.execute_reply.started": "2024-04-24T16:06:35.666953Z",
          "shell.execute_reply": "2024-04-24T16:06:35.681301Z"
        },
        "trusted": true,
        "id": "5NiDAFG5FWuF"
      },
      "execution_count": null,
      "outputs": []
    },
    {
      "cell_type": "code",
      "source": [
        "# view the renamed column names\n",
        "\n",
        "df.columns"
      ],
      "metadata": {
        "execution": {
          "iopub.status.busy": "2024-04-24T16:06:35.688076Z",
          "iopub.execute_input": "2024-04-24T16:06:35.689010Z",
          "iopub.status.idle": "2024-04-24T16:06:35.697724Z",
          "shell.execute_reply.started": "2024-04-24T16:06:35.688970Z",
          "shell.execute_reply": "2024-04-24T16:06:35.696592Z"
        },
        "trusted": true,
        "id": "Dqaswu3lFWuF"
      },
      "execution_count": null,
      "outputs": []
    },
    {
      "cell_type": "markdown",
      "source": [
        "**Kiểm tra độ phân tán của biến target**"
      ],
      "metadata": {
        "id": "JZSs5H5NFWuF"
      }
    },
    {
      "cell_type": "code",
      "source": [
        "# check distribution of target_class column\n",
        "\n",
        "df['target_class'].value_counts()"
      ],
      "metadata": {
        "execution": {
          "iopub.status.busy": "2024-04-24T16:06:35.698840Z",
          "iopub.execute_input": "2024-04-24T16:06:35.699289Z",
          "iopub.status.idle": "2024-04-24T16:06:35.719391Z",
          "shell.execute_reply.started": "2024-04-24T16:06:35.699250Z",
          "shell.execute_reply": "2024-04-24T16:06:35.718258Z"
        },
        "trusted": true,
        "id": "6rmooi_0FWuF"
      },
      "execution_count": null,
      "outputs": []
    },
    {
      "cell_type": "code",
      "source": [
        "# view the percentage distribution of target_class column\n",
        "\n",
        "df['target_class'].value_counts()/float(len(df))"
      ],
      "metadata": {
        "execution": {
          "iopub.status.busy": "2024-04-24T16:06:35.720721Z",
          "iopub.execute_input": "2024-04-24T16:06:35.721230Z",
          "iopub.status.idle": "2024-04-24T16:06:35.734274Z",
          "shell.execute_reply.started": "2024-04-24T16:06:35.721181Z",
          "shell.execute_reply": "2024-04-24T16:06:35.733224Z"
        },
        "trusted": true,
        "id": "Sd1CvzCyFWuF"
      },
      "execution_count": null,
      "outputs": []
    },
    {
      "cell_type": "markdown",
      "source": [
        "Chúng ta có thể thấy rằng phần trăm quan sát của nhãn lớp 0 và 1 là 90,84% và 9,16%. Vì vậy, đây là một vấn đề mất cân bằng giữa các lớp. Em sẽ xử lý vấn đề này trong phần sau."
      ],
      "metadata": {
        "id": "J2i0IRORFWuF"
      }
    },
    {
      "cell_type": "code",
      "source": [
        "# view summary of dataset\n",
        "\n",
        "df.info()"
      ],
      "metadata": {
        "execution": {
          "iopub.status.busy": "2024-04-24T16:06:35.735637Z",
          "iopub.execute_input": "2024-04-24T16:06:35.735934Z",
          "iopub.status.idle": "2024-04-24T16:06:35.761268Z",
          "shell.execute_reply.started": "2024-04-24T16:06:35.735909Z",
          "shell.execute_reply": "2024-04-24T16:06:35.760157Z"
        },
        "trusted": true,
        "id": "0je_UBBsFWuG"
      },
      "execution_count": null,
      "outputs": []
    },
    {
      "cell_type": "markdown",
      "source": [
        "Chúng ta có thể thấy rằng không có giá trị thiếu trong tập dữ liệu và tất cả các biến đều là biến số.\n",
        "\n",
        "\n",
        "\n",
        "\n",
        "\n"
      ],
      "metadata": {
        "id": "vxcsCVnQFWuG"
      }
    },
    {
      "cell_type": "markdown",
      "source": [
        "**Kiểm tra các giá trị trống trong biến**"
      ],
      "metadata": {
        "id": "HyIdciOqFWuG"
      }
    },
    {
      "cell_type": "code",
      "source": [
        "# check for missing values in variables\n",
        "\n",
        "df.isnull().sum()"
      ],
      "metadata": {
        "execution": {
          "iopub.status.busy": "2024-04-24T16:06:35.762759Z",
          "iopub.execute_input": "2024-04-24T16:06:35.763296Z",
          "iopub.status.idle": "2024-04-24T16:06:35.776162Z",
          "shell.execute_reply.started": "2024-04-24T16:06:35.763261Z",
          "shell.execute_reply": "2024-04-24T16:06:35.775069Z"
        },
        "trusted": true,
        "id": "JTWE9C8DFWuG"
      },
      "execution_count": null,
      "outputs": []
    },
    {
      "cell_type": "markdown",
      "source": [
        "Chúng ta có thể thấy rằng không có giá trị thiếu trong tập dữ liệu.\n",
        "\n",
        "**Tóm tắt về biến số**\n",
        "* Có 9 biến số trong tập dữ liệu.\n",
        "* 8 biến là biến liên tục và 1 biến là biến rời rạc.\n",
        "* Biến rời rạc là biến target_class. Đây cũng là biến mục tiêu.\n",
        "* Không có giá trị thiếu trong tập dữ liệu.\n",
        "\n",
        "**Các ngoại lệ trong biến số**"
      ],
      "metadata": {
        "id": "zE0kJuSiFWuG"
      }
    },
    {
      "cell_type": "code",
      "source": [
        "# view summary statistics in numerical variables\n",
        "\n",
        "round(df.describe(),2)"
      ],
      "metadata": {
        "execution": {
          "iopub.status.busy": "2024-04-24T16:06:35.779673Z",
          "iopub.execute_input": "2024-04-24T16:06:35.780007Z",
          "iopub.status.idle": "2024-04-24T16:06:35.834158Z",
          "shell.execute_reply.started": "2024-04-24T16:06:35.779980Z",
          "shell.execute_reply": "2024-04-24T16:06:35.833029Z"
        },
        "trusted": true,
        "id": "-cASS4p7FWuG"
      },
      "execution_count": null,
      "outputs": []
    },
    {
      "cell_type": "markdown",
      "source": [
        "Trên sự kiểm tra cẩn thận, chúng ta có thể nghi ngờ rằng tất cả các biến liên tục có thể chứa ngoại lệ.\n",
        "\n",
        "Em sẽ vẽ biểu đồ boxplot để trực quan hóa ngoại lệ trong các biến trên."
      ],
      "metadata": {
        "id": "ko5qsQkSFWuG"
      }
    },
    {
      "cell_type": "code",
      "source": [
        "# draw boxplots to visualize outliers\n",
        "\n",
        "plt.figure(figsize=(24,20))\n",
        "\n",
        "\n",
        "plt.subplot(4, 2, 1)\n",
        "fig = df.boxplot(column='IP Mean')\n",
        "fig.set_title('')\n",
        "fig.set_ylabel('IP Mean')\n",
        "\n",
        "\n",
        "plt.subplot(4, 2, 2)\n",
        "fig = df.boxplot(column='IP Sd')\n",
        "fig.set_title('')\n",
        "fig.set_ylabel('IP Sd')\n",
        "\n",
        "\n",
        "plt.subplot(4, 2, 3)\n",
        "fig = df.boxplot(column='IP Kurtosis')\n",
        "fig.set_title('')\n",
        "fig.set_ylabel('IP Kurtosis')\n",
        "\n",
        "\n",
        "plt.subplot(4, 2, 4)\n",
        "fig = df.boxplot(column='IP Skewness')\n",
        "fig.set_title('')\n",
        "fig.set_ylabel('IP Skewness')\n",
        "\n",
        "\n",
        "plt.subplot(4, 2, 5)\n",
        "fig = df.boxplot(column='DM-SNR Mean')\n",
        "fig.set_title('')\n",
        "fig.set_ylabel('DM-SNR Mean')\n",
        "\n",
        "\n",
        "plt.subplot(4, 2, 6)\n",
        "fig = df.boxplot(column='DM-SNR Sd')\n",
        "fig.set_title('')\n",
        "fig.set_ylabel('DM-SNR Sd')\n",
        "\n",
        "\n",
        "plt.subplot(4, 2, 7)\n",
        "fig = df.boxplot(column='DM-SNR Kurtosis')\n",
        "fig.set_title('')\n",
        "fig.set_ylabel('DM-SNR Kurtosis')\n",
        "\n",
        "\n",
        "plt.subplot(4, 2, 8)\n",
        "fig = df.boxplot(column='DM-SNR Skewness')\n",
        "fig.set_title('')\n",
        "fig.set_ylabel('DM-SNR Skewness')"
      ],
      "metadata": {
        "execution": {
          "iopub.status.busy": "2024-04-24T16:06:35.835850Z",
          "iopub.execute_input": "2024-04-24T16:06:35.836181Z",
          "iopub.status.idle": "2024-04-24T16:06:37.700654Z",
          "shell.execute_reply.started": "2024-04-24T16:06:35.836152Z",
          "shell.execute_reply": "2024-04-24T16:06:37.699279Z"
        },
        "trusted": true,
        "id": "zV4Hm_ubFWuG"
      },
      "execution_count": null,
      "outputs": []
    },
    {
      "cell_type": "markdown",
      "source": [
        "Các biểu đồ boxplot trên xác nhận rằng có rất nhiều ngoại lệ trong các biến này.\n",
        "\n",
        "**Xử lý ngoại lệ với SVMs**\n",
        "\n",
        "Có 2 biến thể của SVMs. Chúng là biến thể hard-margin của SVM và biến thể soft-margin của SVM.\n",
        "\n",
        "Biến thể hard-margin của SVM không xử lý ngoại lệ. Trong trường hợp này, chúng ta muốn tìm ra siêu mặt phẳng có độ rộng lớn nhất sao cho mỗi điểm huấn luyện được phân loại đúng với độ rộng ít nhất là 1. Kỹ thuật này không xử lý ngoại lệ tốt.\n",
        "\n",
        "Một phiên bản khác của SVM được gọi là biến thể soft-margin của SVM. Trong trường hợp này, chúng ta có thể có một số điểm bị phân loại sai hoặc phân loại với một độ rộng nhỏ hơn 1. Nhưng đối với mỗi điểm như vậy, chúng ta phải trả một mức phạt dưới dạng tham số C, điều khiển các ngoại lệ. Giá trị C thấp cho phép chúng ta chấp nhận nhiều ngoại lệ hơn và giá trị C cao cho phép ít ngoại lệ hơn.\n",
        "\n",
        "Thông điệp ở đây là vì tập dữ liệu chứa ngoại lệ, vì vậy giá trị của C nên là cao khi huấn luyện mô hình.\n",
        "\n",
        "**Kiểm tra phân phối của biến**\n",
        "\n",
        "Bây giờ, em sẽ vẽ các đồ thị histogram để kiểm tra phân phối và xem xét xem chúng có chuẩn hay lệch."
      ],
      "metadata": {
        "id": "wm9-XVWBFWuH"
      }
    },
    {
      "cell_type": "code",
      "source": [
        "# plot histogram to check distribution\n",
        "\n",
        "\n",
        "plt.figure(figsize=(24,20))\n",
        "\n",
        "\n",
        "plt.subplot(4, 2, 1)\n",
        "fig = df['IP Mean'].hist(bins=20)\n",
        "fig.set_xlabel('IP Mean')\n",
        "fig.set_ylabel('Number of pulsar stars')\n",
        "\n",
        "\n",
        "plt.subplot(4, 2, 2)\n",
        "fig = df['IP Sd'].hist(bins=20)\n",
        "fig.set_xlabel('IP Sd')\n",
        "fig.set_ylabel('Number of pulsar stars')\n",
        "\n",
        "\n",
        "plt.subplot(4, 2, 3)\n",
        "fig = df['IP Kurtosis'].hist(bins=20)\n",
        "fig.set_xlabel('IP Kurtosis')\n",
        "fig.set_ylabel('Number of pulsar stars')\n",
        "\n",
        "\n",
        "\n",
        "plt.subplot(4, 2, 4)\n",
        "fig = df['IP Skewness'].hist(bins=20)\n",
        "fig.set_xlabel('IP Skewness')\n",
        "fig.set_ylabel('Number of pulsar stars')\n",
        "\n",
        "\n",
        "\n",
        "plt.subplot(4, 2, 5)\n",
        "fig = df['DM-SNR Mean'].hist(bins=20)\n",
        "fig.set_xlabel('DM-SNR Mean')\n",
        "fig.set_ylabel('Number of pulsar stars')\n",
        "\n",
        "\n",
        "\n",
        "plt.subplot(4, 2, 6)\n",
        "fig = df['DM-SNR Sd'].hist(bins=20)\n",
        "fig.set_xlabel('DM-SNR Sd')\n",
        "fig.set_ylabel('Number of pulsar stars')\n",
        "\n",
        "\n",
        "\n",
        "plt.subplot(4, 2, 7)\n",
        "fig = df['DM-SNR Kurtosis'].hist(bins=20)\n",
        "fig.set_xlabel('DM-SNR Kurtosis')\n",
        "fig.set_ylabel('Number of pulsar stars')\n",
        "\n",
        "\n",
        "plt.subplot(4, 2, 8)\n",
        "fig = df['DM-SNR Skewness'].hist(bins=20)\n",
        "fig.set_xlabel('DM-SNR Skewness')\n",
        "fig.set_ylabel('Number of pulsar stars')"
      ],
      "metadata": {
        "execution": {
          "iopub.status.busy": "2024-04-24T16:06:37.702522Z",
          "iopub.execute_input": "2024-04-24T16:06:37.703395Z",
          "iopub.status.idle": "2024-04-24T16:06:40.211724Z",
          "shell.execute_reply.started": "2024-04-24T16:06:37.703350Z",
          "shell.execute_reply": "2024-04-24T16:06:40.209992Z"
        },
        "trusted": true,
        "id": "mCF-r4jQFWuH"
      },
      "execution_count": null,
      "outputs": []
    },
    {
      "cell_type": "markdown",
      "source": [
        "Chúng ta có thể thấy rằng tất cả 8 biến liên tục đều bị lệch."
      ],
      "metadata": {
        "id": "Vff9fYadFWuH"
      }
    },
    {
      "cell_type": "markdown",
      "source": [
        "# 8. Khai báo vector đặc trưng và biến mục tiêu\n"
      ],
      "metadata": {
        "id": "NFkHpXTqFWuH"
      }
    },
    {
      "cell_type": "code",
      "source": [
        "X = df.drop(['target_class'], axis=1)\n",
        "\n",
        "y = df['target_class']"
      ],
      "metadata": {
        "execution": {
          "iopub.status.busy": "2024-04-24T16:06:40.213505Z",
          "iopub.execute_input": "2024-04-24T16:06:40.213951Z",
          "iopub.status.idle": "2024-04-24T16:06:40.221795Z",
          "shell.execute_reply.started": "2024-04-24T16:06:40.213914Z",
          "shell.execute_reply": "2024-04-24T16:06:40.220434Z"
        },
        "trusted": true,
        "id": "zP-UUy8gFWuH"
      },
      "execution_count": null,
      "outputs": []
    },
    {
      "cell_type": "markdown",
      "source": [
        "# 9. Chia dữ liệu thành tập huấn luyện và tập kiểm tra riêng biệt"
      ],
      "metadata": {
        "id": "lEFW2UC2FWuH"
      }
    },
    {
      "cell_type": "code",
      "source": [
        "# split X and y into training and testing sets\n",
        "\n",
        "from sklearn.model_selection import train_test_split\n",
        "\n",
        "X_train, X_test, y_train, y_test = train_test_split(X, y, test_size = 0.2, random_state = 0)"
      ],
      "metadata": {
        "execution": {
          "iopub.status.busy": "2024-04-24T16:06:40.223634Z",
          "iopub.execute_input": "2024-04-24T16:06:40.224096Z",
          "iopub.status.idle": "2024-04-24T16:06:40.709917Z",
          "shell.execute_reply.started": "2024-04-24T16:06:40.224054Z",
          "shell.execute_reply": "2024-04-24T16:06:40.708564Z"
        },
        "trusted": true,
        "id": "T6VqpnRKFWuH"
      },
      "execution_count": null,
      "outputs": []
    },
    {
      "cell_type": "code",
      "source": [
        "# check the shape of X_train and X_test\n",
        "\n",
        "X_train.shape, X_test.shape"
      ],
      "metadata": {
        "execution": {
          "iopub.status.busy": "2024-04-24T16:06:40.712185Z",
          "iopub.execute_input": "2024-04-24T16:06:40.712704Z",
          "iopub.status.idle": "2024-04-24T16:06:40.723132Z",
          "shell.execute_reply.started": "2024-04-24T16:06:40.712660Z",
          "shell.execute_reply": "2024-04-24T16:06:40.721336Z"
        },
        "trusted": true,
        "id": "swcvz_dOFWuH"
      },
      "execution_count": null,
      "outputs": []
    },
    {
      "cell_type": "markdown",
      "source": [
        "# 10. Chuẩn hóa Đặc Trưng"
      ],
      "metadata": {
        "id": "YuPoz0fUFWuI"
      }
    },
    {
      "cell_type": "code",
      "source": [
        "cols = X_train.columns"
      ],
      "metadata": {
        "execution": {
          "iopub.status.busy": "2024-04-24T16:06:40.726082Z",
          "iopub.execute_input": "2024-04-24T16:06:40.726616Z",
          "iopub.status.idle": "2024-04-24T16:06:40.735076Z",
          "shell.execute_reply.started": "2024-04-24T16:06:40.726572Z",
          "shell.execute_reply": "2024-04-24T16:06:40.733438Z"
        },
        "trusted": true,
        "id": "cYEf9GUzFWuL"
      },
      "execution_count": null,
      "outputs": []
    },
    {
      "cell_type": "code",
      "source": [
        "from sklearn.preprocessing import StandardScaler\n",
        "\n",
        "scaler = StandardScaler()\n",
        "\n",
        "X_train = scaler.fit_transform(X_train)\n",
        "\n",
        "X_test = scaler.transform(X_test)"
      ],
      "metadata": {
        "execution": {
          "iopub.status.busy": "2024-04-24T16:06:40.737405Z",
          "iopub.execute_input": "2024-04-24T16:06:40.737976Z",
          "iopub.status.idle": "2024-04-24T16:06:40.758576Z",
          "shell.execute_reply.started": "2024-04-24T16:06:40.737929Z",
          "shell.execute_reply": "2024-04-24T16:06:40.757315Z"
        },
        "trusted": true,
        "id": "Kjsf1ItOFWuL"
      },
      "execution_count": null,
      "outputs": []
    },
    {
      "cell_type": "code",
      "source": [
        "X_train = pd.DataFrame(X_train, columns=[cols])"
      ],
      "metadata": {
        "execution": {
          "iopub.status.busy": "2024-04-24T16:06:40.760073Z",
          "iopub.execute_input": "2024-04-24T16:06:40.760766Z",
          "iopub.status.idle": "2024-04-24T16:06:40.771739Z",
          "shell.execute_reply.started": "2024-04-24T16:06:40.760727Z",
          "shell.execute_reply": "2024-04-24T16:06:40.769860Z"
        },
        "trusted": true,
        "id": "Qb8UBwN4FWuL"
      },
      "execution_count": null,
      "outputs": []
    },
    {
      "cell_type": "code",
      "source": [
        "X_test = pd.DataFrame(X_test, columns=[cols])"
      ],
      "metadata": {
        "execution": {
          "iopub.status.busy": "2024-04-24T16:06:40.773376Z",
          "iopub.execute_input": "2024-04-24T16:06:40.776737Z",
          "iopub.status.idle": "2024-04-24T16:06:40.785249Z",
          "shell.execute_reply.started": "2024-04-24T16:06:40.776677Z",
          "shell.execute_reply": "2024-04-24T16:06:40.783631Z"
        },
        "trusted": true,
        "id": "jcovTx0XFWuM"
      },
      "execution_count": null,
      "outputs": []
    },
    {
      "cell_type": "code",
      "source": [
        "X_train.describe()"
      ],
      "metadata": {
        "execution": {
          "iopub.status.busy": "2024-04-24T16:06:40.787080Z",
          "iopub.execute_input": "2024-04-24T16:06:40.787749Z",
          "iopub.status.idle": "2024-04-24T16:06:40.884608Z",
          "shell.execute_reply.started": "2024-04-24T16:06:40.787700Z",
          "shell.execute_reply": "2024-04-24T16:06:40.883358Z"
        },
        "trusted": true,
        "id": "2s5w91_IFWuM"
      },
      "execution_count": null,
      "outputs": []
    },
    {
      "cell_type": "markdown",
      "source": [
        "Bây giờ chúng ta đã có tập dữ liệu X_train sẵn sàng để đưa vào bộ phân loại. Em sẽ làm điều đó như sau."
      ],
      "metadata": {
        "id": "lSOY3YPjFWuM"
      }
    },
    {
      "cell_type": "markdown",
      "source": [
        "# 11. Chạy SVM với siêu tham số mặc định\n",
        "\n",
        "Siêu tham số mặc định có nghĩa là C=1.0, kernel=rbf và gamma=auto trong số các tham số khác."
      ],
      "metadata": {
        "id": "PhyebyncFWuM"
      }
    },
    {
      "cell_type": "code",
      "source": [
        "# import SVC classifier\n",
        "from sklearn.svm import SVC\n",
        "\n",
        "\n",
        "# import metrics to compute accuracy\n",
        "from sklearn.metrics import accuracy_score\n",
        "\n",
        "\n",
        "# instantiate classifier with default hyperparameters\n",
        "svc=SVC()\n",
        "\n",
        "\n",
        "# fit classifier to training set\n",
        "svc.fit(X_train,y_train)\n",
        "\n",
        "\n",
        "# make predictions on test set\n",
        "y_pred=svc.predict(X_test)\n",
        "\n",
        "\n",
        "# compute and print accuracy score\n",
        "print('Model accuracy score with default hyperparameters: {0:0.4f}'. format(accuracy_score(y_test, y_pred)))"
      ],
      "metadata": {
        "execution": {
          "iopub.status.busy": "2024-04-24T16:06:40.886822Z",
          "iopub.execute_input": "2024-04-24T16:06:40.887193Z",
          "iopub.status.idle": "2024-04-24T16:06:41.962386Z",
          "shell.execute_reply.started": "2024-04-24T16:06:40.887156Z",
          "shell.execute_reply": "2024-04-24T16:06:41.961141Z"
        },
        "trusted": true,
        "id": "bZ1nDkb_FWuM"
      },
      "execution_count": null,
      "outputs": []
    },
    {
      "cell_type": "markdown",
      "source": [
        "**Chạy SVM với kernel rbf và C=100.0**\n",
        "\n",
        "Chúng ta đã thấy rằng có những ngoại lệ trong tập dữ liệu của chúng ta. Vì vậy, chúng ta nên tăng giá trị của C vì C cao hơn có nghĩa là ít giá trị ngoại lệ hơn. Vì vậy, em sẽ chạy SVM với kernel=rbf và C=100.0."
      ],
      "metadata": {
        "id": "Y_SVNxfjFWuM"
      }
    },
    {
      "cell_type": "code",
      "source": [
        "# instantiate classifier with rbf kernel and C=100\n",
        "svc=SVC(C=100.0)\n",
        "\n",
        "\n",
        "# fit classifier to training set\n",
        "svc.fit(X_train,y_train)\n",
        "\n",
        "\n",
        "# make predictions on test set\n",
        "y_pred=svc.predict(X_test)\n",
        "\n",
        "\n",
        "# compute and print accuracy score\n",
        "print('Model accuracy score with rbf kernel and C=100.0 : {0:0.4f}'. format(accuracy_score(y_test, y_pred)))"
      ],
      "metadata": {
        "execution": {
          "iopub.status.busy": "2024-04-24T16:06:41.964262Z",
          "iopub.execute_input": "2024-04-24T16:06:41.965309Z",
          "iopub.status.idle": "2024-04-24T16:06:44.417553Z",
          "shell.execute_reply.started": "2024-04-24T16:06:41.965175Z",
          "shell.execute_reply": "2024-04-24T16:06:44.416188Z"
        },
        "trusted": true,
        "id": "ybmzstmeFWuM"
      },
      "execution_count": null,
      "outputs": []
    },
    {
      "cell_type": "markdown",
      "source": [
        "Chúng ta có thể thấy rằng chúng ta đạt được độ chính xác cao hơn với C=100,0 vì C cao hơn có nghĩa là ít giá trị ngoại lệ hơn.\n",
        "\n",
        "Bây giờ, em sẽ tăng thêm giá trị C=1000.0 và kiểm tra độ chính xác."
      ],
      "metadata": {
        "id": "8DUv0kcLFWuM"
      }
    },
    {
      "cell_type": "code",
      "source": [
        "# instantiate classifier with rbf kernel and C=1000\n",
        "svc=SVC(C=1000.0)\n",
        "\n",
        "\n",
        "# fit classifier to training set\n",
        "svc.fit(X_train,y_train)\n",
        "\n",
        "\n",
        "# make predictions on test set\n",
        "y_pred=svc.predict(X_test)\n",
        "\n",
        "\n",
        "# compute and print accuracy score\n",
        "print('Model accuracy score with rbf kernel and C=1000.0 : {0:0.4f}'. format(accuracy_score(y_test, y_pred)))"
      ],
      "metadata": {
        "execution": {
          "iopub.status.busy": "2024-04-24T16:06:44.425375Z",
          "iopub.execute_input": "2024-04-24T16:06:44.425811Z",
          "iopub.status.idle": "2024-04-24T16:06:53.318643Z",
          "shell.execute_reply.started": "2024-04-24T16:06:44.425778Z",
          "shell.execute_reply": "2024-04-24T16:06:53.317379Z"
        },
        "trusted": true,
        "id": "QpBuFXgNFWuN"
      },
      "execution_count": null,
      "outputs": []
    },
    {
      "cell_type": "markdown",
      "source": [
        "Trong trường hợp này, chúng ta có thể thấy rằng độ chính xác đã giảm với C=1000,0"
      ],
      "metadata": {
        "id": "_TxjpReZFWuN"
      }
    },
    {
      "cell_type": "markdown",
      "source": [
        "# 12. Run SVM with linear kernel\n",
        "\n",
        "**Run SVM with linear kernel and C=1.0**"
      ],
      "metadata": {
        "id": "RnB8YT9GFWuN"
      }
    },
    {
      "cell_type": "code",
      "source": [
        "# instantiate classifier with linear kernel and C=1.0\n",
        "linear_svc=SVC(kernel='linear', C=1.0)\n",
        "\n",
        "\n",
        "# fit classifier to training set\n",
        "linear_svc.fit(X_train,y_train)\n",
        "\n",
        "\n",
        "# make predictions on test set\n",
        "y_pred_test=linear_svc.predict(X_test)\n",
        "\n",
        "\n",
        "# compute and print accuracy score\n",
        "print('Model accuracy score with linear kernel and C=1.0 : {0:0.4f}'. format(accuracy_score(y_test, y_pred_test)))"
      ],
      "metadata": {
        "execution": {
          "iopub.status.busy": "2024-04-24T16:06:53.320354Z",
          "iopub.execute_input": "2024-04-24T16:06:53.320713Z",
          "iopub.status.idle": "2024-04-24T16:06:54.068018Z",
          "shell.execute_reply.started": "2024-04-24T16:06:53.320684Z",
          "shell.execute_reply": "2024-04-24T16:06:54.066515Z"
        },
        "trusted": true,
        "id": "0VaCSfTPFWuN"
      },
      "execution_count": null,
      "outputs": []
    },
    {
      "cell_type": "markdown",
      "source": [
        "**Run SVM with linear kernel and C=100.0**"
      ],
      "metadata": {
        "id": "cOgBnK0iFWuN"
      }
    },
    {
      "cell_type": "code",
      "source": [
        "# instantiate classifier with linear kernel and C=100.0\n",
        "linear_svc100=SVC(kernel='linear', C=100.0)\n",
        "\n",
        "\n",
        "# fit classifier to training set\n",
        "linear_svc100.fit(X_train, y_train)\n",
        "\n",
        "\n",
        "# make predictions on test set\n",
        "y_pred=linear_svc100.predict(X_test)\n",
        "\n",
        "\n",
        "# compute and print accuracy score\n",
        "print('Model accuracy score with linear kernel and C=100.0 : {0:0.4f}'. format(accuracy_score(y_test, y_pred)))"
      ],
      "metadata": {
        "execution": {
          "iopub.status.busy": "2024-04-24T16:06:54.070108Z",
          "iopub.execute_input": "2024-04-24T16:06:54.070566Z",
          "iopub.status.idle": "2024-04-24T16:07:00.541855Z",
          "shell.execute_reply.started": "2024-04-24T16:06:54.070474Z",
          "shell.execute_reply": "2024-04-24T16:07:00.540469Z"
        },
        "trusted": true,
        "id": "Ri0tRRd4FWuN"
      },
      "execution_count": null,
      "outputs": []
    },
    {
      "cell_type": "markdown",
      "source": [
        "Run SVM with linear kernel and C=1000.0"
      ],
      "metadata": {
        "id": "HS4L4bMQFWuO"
      }
    },
    {
      "cell_type": "code",
      "source": [
        "# instantiate classifier with linear kernel and C=1000.0\n",
        "linear_svc1000=SVC(kernel='linear', C=1000.0)\n",
        "\n",
        "\n",
        "# fit classifier to training set\n",
        "linear_svc1000.fit(X_train, y_train)\n",
        "\n",
        "\n",
        "# make predictions on test set\n",
        "y_pred=linear_svc1000.predict(X_test)\n",
        "\n",
        "\n",
        "# compute and print accuracy score\n",
        "print('Model accuracy score with linear kernel and C=1000.0 : {0:0.4f}'. format(accuracy_score(y_test, y_pred)))"
      ],
      "metadata": {
        "execution": {
          "iopub.status.busy": "2024-04-24T16:07:00.543670Z",
          "iopub.execute_input": "2024-04-24T16:07:00.544405Z",
          "iopub.status.idle": "2024-04-24T16:07:45.924536Z",
          "shell.execute_reply.started": "2024-04-24T16:07:00.544369Z",
          "shell.execute_reply": "2024-04-24T16:07:45.923290Z"
        },
        "trusted": true,
        "id": "bZyaT2-YFWuO"
      },
      "execution_count": null,
      "outputs": []
    },
    {
      "cell_type": "markdown",
      "source": [
        "Có thể thấy rằng chúng ta có thể đạt được độ chính xác cao hơn với C=100.0 và C=1000.0 so với C=1.0.\n",
        "\n",
        "Ở đây, y_test là nhãn lớp thực và y_pred là nhãn lớp được dự đoán trong tập kiểm tra.\n",
        "\n",
        "So sánh độ chính xác của tập huấn luyện và tập kiểm tra\n",
        "Bây giờ, em sẽ so sánh độ chính xác của tập huấn luyện và tập kiểm tra để kiểm tra xem có trang bị quá mức hay không."
      ],
      "metadata": {
        "id": "SjAEKYVbFWuO"
      }
    },
    {
      "cell_type": "code",
      "source": [
        "y_pred_train = linear_svc.predict(X_train)\n",
        "\n",
        "y_pred_train"
      ],
      "metadata": {
        "execution": {
          "iopub.status.busy": "2024-04-24T16:07:45.926131Z",
          "iopub.execute_input": "2024-04-24T16:07:45.926624Z",
          "iopub.status.idle": "2024-04-24T16:07:46.237230Z",
          "shell.execute_reply.started": "2024-04-24T16:07:45.926584Z",
          "shell.execute_reply": "2024-04-24T16:07:46.235980Z"
        },
        "trusted": true,
        "id": "GMl0iUmXFWuO"
      },
      "execution_count": null,
      "outputs": []
    },
    {
      "cell_type": "code",
      "source": [
        "print('Training-set accuracy score: {0:0.4f}'. format(accuracy_score(y_train, y_pred_train)))"
      ],
      "metadata": {
        "execution": {
          "iopub.status.busy": "2024-04-24T16:07:46.238664Z",
          "iopub.execute_input": "2024-04-24T16:07:46.239100Z",
          "iopub.status.idle": "2024-04-24T16:07:46.248371Z",
          "shell.execute_reply.started": "2024-04-24T16:07:46.239060Z",
          "shell.execute_reply": "2024-04-24T16:07:46.246909Z"
        },
        "trusted": true,
        "id": "kQ2Dd8sdFWuO"
      },
      "execution_count": null,
      "outputs": []
    },
    {
      "cell_type": "markdown",
      "source": [
        "Có thể thấy rằng độ chính xác của tập huấn luyện và tập kiểm tra là tương đương nhau.\n",
        "\n",
        "**Kiểm tra quá mức và thiếu mức fitting**\n",
        "\n",
        "\n",
        "\n",
        "\n",
        "\n"
      ],
      "metadata": {
        "id": "Zw2l0tYHFWuP"
      }
    },
    {
      "cell_type": "code",
      "source": [
        "# print the scores on training and test set\n",
        "\n",
        "print('Training set score: {:.4f}'.format(linear_svc.score(X_train, y_train)))\n",
        "\n",
        "print('Test set score: {:.4f}'.format(linear_svc.score(X_test, y_test)))"
      ],
      "metadata": {
        "execution": {
          "iopub.status.busy": "2024-04-24T16:07:46.250177Z",
          "iopub.execute_input": "2024-04-24T16:07:46.250734Z",
          "iopub.status.idle": "2024-04-24T16:07:46.639210Z",
          "shell.execute_reply.started": "2024-04-24T16:07:46.250691Z",
          "shell.execute_reply": "2024-04-24T16:07:46.637815Z"
        },
        "trusted": true,
        "id": "IF1rSL9pFWuP"
      },
      "execution_count": null,
      "outputs": []
    },
    {
      "cell_type": "markdown",
      "source": [
        "Điểm chính xác trên tập huấn luyện là 0.9783 trong khi điểm chính xác trên tập kiểm tra là 0.9830. Hai giá trị này khá tương đương. Vì vậy, không có vấn đề về quá mức fitting.\n",
        "\n",
        "**So sánh độ chính xác của mô hình với độ chính xác null**\n",
        "\n",
        "Vì vậy, độ chính xác của mô hình là 0.9832. Tuy nhiên, chúng ta không thể nói rằng mô hình của chúng ta rất tốt dựa trên độ chính xác trên. Chúng ta phải so sánh nó với độ chính xác null. Độ chính xác null là độ chính xác có thể đạt được bằng cách luôn dự đoán lớp phổ biến nhất.\n",
        "\n",
        "Vì vậy, trước tiên chúng ta nên kiểm tra phân phối lớp trong tập kiểm tra."
      ],
      "metadata": {
        "id": "dHAPZPalFWuP"
      }
    },
    {
      "cell_type": "code",
      "source": [
        "# check class distribution in test set\n",
        "\n",
        "y_test.value_counts()"
      ],
      "metadata": {
        "execution": {
          "iopub.status.busy": "2024-04-24T16:07:46.640709Z",
          "iopub.execute_input": "2024-04-24T16:07:46.641192Z",
          "iopub.status.idle": "2024-04-24T16:07:46.651064Z",
          "shell.execute_reply.started": "2024-04-24T16:07:46.641149Z",
          "shell.execute_reply": "2024-04-24T16:07:46.649277Z"
        },
        "trusted": true,
        "id": "EUoY5oQtFWuP"
      },
      "execution_count": null,
      "outputs": []
    },
    {
      "cell_type": "markdown",
      "source": [
        "Chúng ta có thể thấy rằng số lần xuất hiện của lớp phổ biến nhất 0 là 3306. Vì vậy, chúng ta có thể tính độ chính xác null bằng cách chia 3306 cho tổng số lần xuất hiện."
      ],
      "metadata": {
        "id": "UsPkC9s3FWuP"
      }
    },
    {
      "cell_type": "code",
      "source": [
        "# check null accuracy score\n",
        "\n",
        "null_accuracy = (3306/(3306+274))\n",
        "\n",
        "print('Null accuracy score: {0:0.4f}'. format(null_accuracy))"
      ],
      "metadata": {
        "execution": {
          "iopub.status.busy": "2024-04-24T16:07:46.653691Z",
          "iopub.execute_input": "2024-04-24T16:07:46.654133Z",
          "iopub.status.idle": "2024-04-24T16:07:46.667153Z",
          "shell.execute_reply.started": "2024-04-24T16:07:46.654084Z",
          "shell.execute_reply": "2024-04-24T16:07:46.665578Z"
        },
        "trusted": true,
        "id": "7VEN7jpMFWuP"
      },
      "execution_count": null,
      "outputs": []
    },
    {
      "cell_type": "markdown",
      "source": [
        "Chúng ta có thể thấy rằng điểm chính xác của mô hình của chúng ta là 0,9830 nhưng điểm chính xác không là 0,9235. Vì vậy, chúng ta có thể kết luận rằng trình phân loại SVM của chúng ta đang làm rất tốt việc dự đoán nhãn lớp."
      ],
      "metadata": {
        "id": "M6QevxunFWuP"
      }
    },
    {
      "cell_type": "markdown",
      "source": [
        "# 13. Chạy SVM với kernel đa thức\n",
        "\n",
        "**Chạy SVM với kernel đa thức và C=1.0**"
      ],
      "metadata": {
        "id": "PgjkxoG0FWuQ"
      }
    },
    {
      "cell_type": "code",
      "source": [
        "# instantiate classifier with polynomial kernel and C=1.0\n",
        "poly_svc=SVC(kernel='poly', C=1.0)\n",
        "\n",
        "\n",
        "# fit classifier to training set\n",
        "poly_svc.fit(X_train,y_train)\n",
        "\n",
        "\n",
        "# make predictions on test set\n",
        "y_pred=poly_svc.predict(X_test)\n",
        "\n",
        "\n",
        "# compute and print accuracy score\n",
        "print('Model accuracy score with polynomial kernel and C=1.0 : {0:0.4f}'. format(accuracy_score(y_test, y_pred)))"
      ],
      "metadata": {
        "execution": {
          "iopub.status.busy": "2024-04-24T16:07:46.669181Z",
          "iopub.execute_input": "2024-04-24T16:07:46.669664Z",
          "iopub.status.idle": "2024-04-24T16:07:47.725466Z",
          "shell.execute_reply.started": "2024-04-24T16:07:46.669622Z",
          "shell.execute_reply": "2024-04-24T16:07:47.724100Z"
        },
        "trusted": true,
        "id": "eeltpbRYFWuQ"
      },
      "execution_count": null,
      "outputs": []
    },
    {
      "cell_type": "markdown",
      "source": [
        "**Run SVM with polynomial kernel and C=100.0**"
      ],
      "metadata": {
        "id": "6Q_0ATxLFWuQ"
      }
    },
    {
      "cell_type": "code",
      "source": [
        "# instantiate classifier with polynomial kernel and C=100.0\n",
        "poly_svc100=SVC(kernel='poly', C=100.0)\n",
        "\n",
        "\n",
        "# fit classifier to training set\n",
        "poly_svc100.fit(X_train, y_train)\n",
        "\n",
        "\n",
        "# make predictions on test set\n",
        "y_pred=poly_svc100.predict(X_test)\n",
        "\n",
        "\n",
        "# compute and print accuracy score\n",
        "print('Model accuracy score with polynomial kernel and C=1.0 : {0:0.4f}'. format(accuracy_score(y_test, y_pred)))"
      ],
      "metadata": {
        "execution": {
          "iopub.status.busy": "2024-04-24T16:07:47.727074Z",
          "iopub.execute_input": "2024-04-24T16:07:47.727536Z",
          "iopub.status.idle": "2024-04-24T16:08:03.458762Z",
          "shell.execute_reply.started": "2024-04-24T16:07:47.727498Z",
          "shell.execute_reply": "2024-04-24T16:08:03.457262Z"
        },
        "trusted": true,
        "id": "KVt2U_GIFWuQ"
      },
      "execution_count": null,
      "outputs": []
    },
    {
      "cell_type": "markdown",
      "source": [
        "Hạt nhân đa thức cho hiệu suất kém. Nó có thể được trang bị quá mức cho tập huấn luyện."
      ],
      "metadata": {
        "id": "0sAKTbg_FWuQ"
      }
    },
    {
      "cell_type": "markdown",
      "source": [
        "# 14. Chạy SVM với kernel sigmoid\n",
        "\n",
        "**Chạy SVM với kernel sigmoid và C=1.0**"
      ],
      "metadata": {
        "id": "ppy7VLb2FWuQ"
      }
    },
    {
      "cell_type": "code",
      "source": [
        "# instantiate classifier with sigmoid kernel and C=1.0\n",
        "sigmoid_svc=SVC(kernel='sigmoid', C=1.0)\n",
        "\n",
        "\n",
        "# fit classifier to training set\n",
        "sigmoid_svc.fit(X_train,y_train)\n",
        "\n",
        "\n",
        "# make predictions on test set\n",
        "y_pred=sigmoid_svc.predict(X_test)\n",
        "\n",
        "\n",
        "# compute and print accuracy score\n",
        "print('Model accuracy score with sigmoid kernel and C=1.0 : {0:0.4f}'. format(accuracy_score(y_test, y_pred)))"
      ],
      "metadata": {
        "execution": {
          "iopub.status.busy": "2024-04-24T16:08:03.460868Z",
          "iopub.execute_input": "2024-04-24T16:08:03.461380Z",
          "iopub.status.idle": "2024-04-24T16:08:06.028744Z",
          "shell.execute_reply.started": "2024-04-24T16:08:03.461335Z",
          "shell.execute_reply": "2024-04-24T16:08:06.027697Z"
        },
        "trusted": true,
        "id": "ZulHtwjjFWuQ"
      },
      "execution_count": null,
      "outputs": []
    },
    {
      "cell_type": "markdown",
      "source": [
        "Chạy SVM với kernel sigmoid và C=100.0"
      ],
      "metadata": {
        "id": "Xfc5-I3xFWuR"
      }
    },
    {
      "cell_type": "code",
      "source": [
        "# instantiate classifier with sigmoid kernel and C=100.0\n",
        "sigmoid_svc100=SVC(kernel='sigmoid', C=100.0)\n",
        "\n",
        "\n",
        "# fit classifier to training set\n",
        "sigmoid_svc100.fit(X_train,y_train)\n",
        "\n",
        "\n",
        "# make predictions on test set\n",
        "y_pred=sigmoid_svc100.predict(X_test)\n",
        "\n",
        "\n",
        "# compute and print accuracy score\n",
        "print('Model accuracy score with sigmoid kernel and C=100.0 : {0:0.4f}'. format(accuracy_score(y_test, y_pred)))"
      ],
      "metadata": {
        "execution": {
          "iopub.status.busy": "2024-04-24T16:08:06.032599Z",
          "iopub.execute_input": "2024-04-24T16:08:06.033218Z",
          "iopub.status.idle": "2024-04-24T16:08:08.649755Z",
          "shell.execute_reply.started": "2024-04-24T16:08:06.033170Z",
          "shell.execute_reply": "2024-04-24T16:08:08.648364Z"
        },
        "trusted": true,
        "id": "TFlMAe12FWuR"
      },
      "execution_count": null,
      "outputs": []
    },
    {
      "cell_type": "markdown",
      "source": [
        "Chúng ta có thể thấy rằng kernel sigmoid cũng hoạt động kém như kernel đa thức.\n",
        "\n",
        "**Nhận xét**\n",
        "\n",
        "Chúng ta đạt độ chính xác tối đa với kernel rbf và linear với C=100.0 và độ chính xác là 0.9832. Dựa trên phân tích trên, chúng ta có thể kết luận rằng độ chính xác của mô hình phân loại của chúng ta rất tốt. Mô hình của chúng ta đang làm rất tốt trong việc dự đoán các nhãn lớp.\n",
        "\n",
        "Nhưng, điều này không đúng. Ở đây, chúng ta có một tập dữ liệu mất cân bằng. Vấn đề là độ chính xác là một phép đo không đủ để đánh giá hiệu suất dự đoán trong vấn đề tập dữ liệu mất cân bằng.\n",
        "\n",
        "Vì vậy, chúng ta phải khám phá các phương pháp đo thay thế mang lại hướng dẫn tốt hơn trong việc lựa chọn mô hình. Đặc biệt, chúng ta muốn biết phân phối các giá trị cơ bản và loại lỗi mà bộ phân loại của chúng ta đang gặp phải.\n",
        "\n",
        "Một trong số các phương pháp đo để phân tích hiệu suất của mô hình trong vấn đề các lớp mất cân bằng là ma trận nhầm lẫn."
      ],
      "metadata": {
        "id": "ZEDLO29SFWuR"
      }
    },
    {
      "cell_type": "markdown",
      "source": [
        "# 15. Ma trận nhầm lẫn\n",
        "\n",
        "Ma trận nhầm lẫn là một công cụ để tóm tắt hiệu suất của một thuật toán phân loại. Một ma trận nhầm lẫn sẽ cho chúng ta một cái nhìn rõ ràng về hiệu suất của mô hình phân loại và các loại lỗi mà mô hình tạo ra. Nó cung cấp cho chúng ta một bản tóm tắt về các dự đoán đúng và sai được chia thành từng danh mục. Bản tóm tắt được đại diện dưới dạng bảng.\n",
        "\n",
        "Có bốn loại kết quả có thể xảy ra khi đánh giá hiệu suất của một mô hình phân loại. Bốn kết quả này được mô tả dưới đây:-\n",
        "\n",
        "**True Positives (TP)** – Tích cực thực sự xảy ra khi chúng ta dự đoán một quan sát thuộc về một lớp nhất định và quan sát thực sự thuộc về lớp đó.\n",
        "\n",
        "**True Negatives (TN)** – Âm tính thực sự xảy ra khi chúng ta dự đoán một quan sát không thuộc về một lớp nhất định và quan sát thực sự không thuộc về lớp đó.\n",
        "\n",
        "**False Positives (FP)** – Dương tính giả xảy ra khi chúng ta dự đoán một quan sát thuộc về một lớp nhất định nhưng quan sát thực sự không thuộc về lớp đó. Loại lỗi này được gọi là **lỗi loại I**.\n",
        "\n",
        "**False Negatives (FN)** – Âm tính giả xảy ra khi chúng ta dự đoán một quan sát không thuộc về một lớp nhất định nhưng quan sát thực sự thuộc về lớp đó. Đây là một loại lỗi rất nghiêm trọng và được gọi là **lỗi loại II**.\n",
        "\n",
        "Bốn kết quả này được tóm tắt trong một ma trận nhầm lẫn được đưa ra dưới đây."
      ],
      "metadata": {
        "id": "sqevD4omFWuR"
      }
    },
    {
      "cell_type": "code",
      "source": [
        "# Print the Confusion Matrix and slice it into four pieces\n",
        "\n",
        "from sklearn.metrics import confusion_matrix\n",
        "\n",
        "cm = confusion_matrix(y_test, y_pred_test)\n",
        "\n",
        "print('Confusion matrix\\n\\n', cm)\n",
        "\n",
        "print('\\nTrue Positives(TP) = ', cm[0,0])\n",
        "\n",
        "print('\\nTrue Negatives(TN) = ', cm[1,1])\n",
        "\n",
        "print('\\nFalse Positives(FP) = ', cm[0,1])\n",
        "\n",
        "print('\\nFalse Negatives(FN) = ', cm[1,0])"
      ],
      "metadata": {
        "execution": {
          "iopub.status.busy": "2024-04-24T16:08:08.653132Z",
          "iopub.execute_input": "2024-04-24T16:08:08.653637Z",
          "iopub.status.idle": "2024-04-24T16:08:08.665528Z",
          "shell.execute_reply.started": "2024-04-24T16:08:08.653594Z",
          "shell.execute_reply": "2024-04-24T16:08:08.664143Z"
        },
        "trusted": true,
        "id": "HiKSP4vzFWuR"
      },
      "execution_count": null,
      "outputs": []
    },
    {
      "cell_type": "markdown",
      "source": [
        "Ma trận nhầm lẫn hiển thị 3289 + 230 = 3519 dự đoán đúng và 17 + 44 = 61 dự đoán sai.\n",
        "\n",
        "Trong trường hợp này, ta có\n",
        "\n",
        "* Kết quả tích cực thực sự (Dương thực thực tế:1 và Tích cực dự đoán:1) - 3289\n",
        "* Âm tính thực sự (Âm tính thực tế: 0 và Âm tính dự đoán: 0) - 230\n",
        "* Dương tính giả (Âm tính thực tế:0 nhưng Dự đoán dương tính:1) - 17 (Lỗi loại I)\n",
        "* Âm tính giả (Dương tính thực tế:1 nhưng Dự đoán âm tính:0) - 44 (Lỗi loại II)"
      ],
      "metadata": {
        "id": "DG9lPizeFWuR"
      }
    },
    {
      "cell_type": "code",
      "source": [
        "# visualize confusion matrix with seaborn heatmap\n",
        "\n",
        "cm_matrix = pd.DataFrame(data=cm, columns=['Actual Positive:1', 'Actual Negative:0'],\n",
        "                                 index=['Predict Positive:1', 'Predict Negative:0'])\n",
        "\n",
        "sns.heatmap(cm_matrix, annot=True, fmt='d', cmap='YlGnBu')"
      ],
      "metadata": {
        "execution": {
          "iopub.status.busy": "2024-04-24T16:08:08.666609Z",
          "iopub.execute_input": "2024-04-24T16:08:08.666958Z",
          "iopub.status.idle": "2024-04-24T16:08:09.032426Z",
          "shell.execute_reply.started": "2024-04-24T16:08:08.666930Z",
          "shell.execute_reply": "2024-04-24T16:08:09.030629Z"
        },
        "trusted": true,
        "id": "04y5D4xKFWuR"
      },
      "execution_count": null,
      "outputs": []
    },
    {
      "cell_type": "markdown",
      "source": [
        "# 16. Các chỉ số đánh giá phân loại\n",
        "\n",
        "**Báo cáo phân loại**\n",
        "\n",
        "Báo cáo phân loại là một cách khác để đánh giá hiệu suất của mô hình phân loại. Nó hiển thị các điểm chính xác (precision), độ phủ (recall), f1 và số lượng hỗ trợ cho mô hình.\n",
        "Chúng ta có thể in ra một báo cáo phân loại như sau:\n",
        "\n",
        "\n",
        "\n",
        "\n",
        "\n"
      ],
      "metadata": {
        "id": "BL8CeCLdFWuS"
      }
    },
    {
      "cell_type": "code",
      "source": [
        "from sklearn.metrics import classification_report\n",
        "\n",
        "print(classification_report(y_test, y_pred_test))"
      ],
      "metadata": {
        "execution": {
          "iopub.status.busy": "2024-04-24T16:08:09.034040Z",
          "iopub.execute_input": "2024-04-24T16:08:09.034680Z",
          "iopub.status.idle": "2024-04-24T16:08:09.055435Z",
          "shell.execute_reply.started": "2024-04-24T16:08:09.034640Z",
          "shell.execute_reply": "2024-04-24T16:08:09.053701Z"
        },
        "trusted": true,
        "id": "nePbtUfRFWuS"
      },
      "execution_count": null,
      "outputs": []
    },
    {
      "cell_type": "markdown",
      "source": [
        "# 17. Đường cong ROC - AUC\n",
        "\n",
        "**Đường cong ROC**\n",
        "Một công cụ khác để đo lường hiệu suất của mô hình phân loại một cách trực quan là **Đường cong ROC**. Đường cong ROC viết tắt của Receiver Operating Characteristic Curve. Một Đường cong ROC là một biểu đồ mà cho thấy hiệu suất của một mô hình phân loại ở các mức ngưỡng phân loại khác nhau.\n",
        "\n",
        "Đường cong ROC vẽ True Positive Rate (TPR) so với False Positive Rate (FPR) ở các mức ngưỡng phân loại khác nhau.\n",
        "\n",
        "True Positive Rate (TPR) còn được gọi là Recall. Nó được định nghĩa là tỷ lệ TP đến (TP + FN).\n",
        "\n",
        "False Positive Rate (FPR) được định nghĩa là tỷ lệ FP đến (FP + TN).\n",
        "\n",
        "Trong Đường cong ROC, chúng ta sẽ tập trung vào TPR (True Positive Rate) và FPR (False Positive Rate) của một điểm duy nhất. Điều này sẽ cho chúng ta hiệu suất chung của đường cong ROC bao gồm TPR và FPR ở các mức ngưỡng phân loại khác nhau. Vì vậy, một Đường cong ROC vẽ TPR so với FPR ở các mức ngưỡng phân loại khác nhau. Nếu chúng ta giảm các mức ngưỡng, có thể dẫn đến nhiều mục được phân loại là tích cực hơn. Nó sẽ tăng cả True Positives (TP) và False Positives (FP)."
      ],
      "metadata": {
        "id": "ivjXoIK0FWuS"
      }
    },
    {
      "cell_type": "code",
      "source": [
        "# plot ROC Curve\n",
        "\n",
        "from sklearn.metrics import roc_curve\n",
        "\n",
        "fpr, tpr, thresholds = roc_curve(y_test, y_pred_test)\n",
        "\n",
        "plt.figure(figsize=(6,4))\n",
        "\n",
        "plt.plot(fpr, tpr, linewidth=2)\n",
        "\n",
        "plt.plot([0,1], [0,1], 'k--' )\n",
        "\n",
        "plt.rcParams['font.size'] = 12\n",
        "\n",
        "plt.title('ROC curve for Predicting a Pulsar Star classifier')\n",
        "\n",
        "plt.xlabel('False Positive Rate (1 - Specificity)')\n",
        "\n",
        "plt.ylabel('True Positive Rate (Sensitivity)')\n",
        "\n",
        "plt.show()"
      ],
      "metadata": {
        "execution": {
          "iopub.status.busy": "2024-04-24T16:08:09.056763Z",
          "iopub.execute_input": "2024-04-24T16:08:09.057146Z",
          "iopub.status.idle": "2024-04-24T16:08:09.382044Z",
          "shell.execute_reply.started": "2024-04-24T16:08:09.057116Z",
          "shell.execute_reply": "2024-04-24T16:08:09.380581Z"
        },
        "trusted": true,
        "id": "r-5o1NpOFWuS"
      },
      "execution_count": null,
      "outputs": []
    },
    {
      "cell_type": "markdown",
      "source": [
        "Đường cong ROC giúp chúng ta chọn một mức ngưỡng cân bằng độ nhạy và độ đặc thù cho một ngữ cảnh cụ thể.\n",
        "\n",
        "**ROC AUC**\n",
        "\n",
        "**ROC AUC** viết tắt của **Receiver Operating Characteristic** - Diện Tích Dưới Đường cong. Đây là một kỹ thuật để so sánh hiệu suất của bộ phân loại. Trong kỹ thuật này, chúng ta đo lường diện tích dưới đường cong (AUC). Một bộ phân loại hoàn hảo sẽ có ROC AUC bằng 1, trong khi một bộ phân loại hoàn toàn ngẫu nhiên sẽ có ROC AUC bằng 0.5.\n",
        "\n",
        "Vì vậy, ROC AUC là phần trăm của đồ thị ROC nằm dưới đường cong."
      ],
      "metadata": {
        "id": "NWYN1EmhFWuS"
      }
    },
    {
      "cell_type": "code",
      "source": [
        "# compute ROC AUC\n",
        "\n",
        "from sklearn.metrics import roc_auc_score\n",
        "\n",
        "ROC_AUC = roc_auc_score(y_test, y_pred_test)\n",
        "\n",
        "print('ROC AUC : {:.4f}'.format(ROC_AUC))"
      ],
      "metadata": {
        "execution": {
          "iopub.status.busy": "2024-04-24T16:08:09.384478Z",
          "iopub.execute_input": "2024-04-24T16:08:09.384930Z",
          "iopub.status.idle": "2024-04-24T16:08:09.401531Z",
          "shell.execute_reply.started": "2024-04-24T16:08:09.384896Z",
          "shell.execute_reply": "2024-04-24T16:08:09.399249Z"
        },
        "trusted": true,
        "id": "Sl-Ux_AOFWuS"
      },
      "execution_count": null,
      "outputs": []
    },
    {
      "cell_type": "markdown",
      "source": [
        "**Bình luận**\n",
        "\n",
        "* ROC AUC là một bản tóm tắt bằng số duy nhất về hiệu suất của bộ phân loại. Giá trị càng cao thì khả năng phân loại càng tốt.\n",
        "\n",
        "* ROC AUC trong mô hình tiến tới 1. Vì vậy, chúng ta có thể kết luận rằng bộ phân loại của chúng ta thực hiện tốt công việc phân loại sao xung."
      ],
      "metadata": {
        "id": "_O5jYYbfFWuS"
      }
    },
    {
      "cell_type": "code",
      "source": [
        "# calculate cross-validated ROC AUC\n",
        "\n",
        "from sklearn.model_selection import cross_val_score\n",
        "\n",
        "Cross_validated_ROC_AUC = cross_val_score(linear_svc, X_train, y_train, cv=10, scoring='roc_auc').mean()\n",
        "\n",
        "print('Cross validated ROC AUC : {:.4f}'.format(Cross_validated_ROC_AUC))"
      ],
      "metadata": {
        "execution": {
          "iopub.status.busy": "2024-04-24T16:08:09.403531Z",
          "iopub.execute_input": "2024-04-24T16:08:09.404175Z",
          "iopub.status.idle": "2024-04-24T16:08:14.635422Z",
          "shell.execute_reply.started": "2024-04-24T16:08:09.404116Z",
          "shell.execute_reply": "2024-04-24T16:08:14.634269Z"
        },
        "trusted": true,
        "id": "bnLqKgpgFWuT"
      },
      "execution_count": null,
      "outputs": []
    },
    {
      "cell_type": "markdown",
      "source": [
        "# 18. Kiểm tra chéo Stratified k-fold với shuffle split\n",
        "\n",
        "Kiểm tra chéo k-fold là một kỹ thuật rất hữu ích để đánh giá hiệu suất của mô hình. Nhưng, nó thất bại ở đây vì chúng ta có một tập dữ liệu không cân bằng. Vì vậy, trong trường hợp tập dữ liệu không cân bằng, ta sẽ sử dụng một kỹ thuật khác để đánh giá hiệu suất của mô hình. Nó được gọi là kiểm tra chéo stratified k-fold.\n",
        "\n",
        "Trong kiểm tra chéo stratified k-fold, chúng ta chia dữ liệu sao cho tỷ lệ giữa các lớp là như nhau trong mỗi fold như chúng ta có trong toàn bộ tập dữ liệu.\n",
        "\n",
        "Hơn nữa, em sẽ trộn dữ liệu trước khi chia vì việc trộn dữ liệu cho kết quả tốt hơn nhiều.\n",
        "\n",
        "**Kiểm tra chéo stratified k-Fold với shuffle split với kernel tuyến tính**"
      ],
      "metadata": {
        "id": "uMYM-psqFWuT"
      }
    },
    {
      "cell_type": "code",
      "source": [
        "from sklearn.model_selection import KFold\n",
        "\n",
        "\n",
        "kfold=KFold(n_splits=5, shuffle=True, random_state=0)\n",
        "\n",
        "\n",
        "linear_svc=SVC(kernel='linear')\n",
        "\n",
        "\n",
        "linear_scores = cross_val_score(linear_svc, X, y, cv=kfold)"
      ],
      "metadata": {
        "execution": {
          "iopub.status.busy": "2024-04-24T16:08:14.637083Z",
          "iopub.execute_input": "2024-04-24T16:08:14.637559Z",
          "iopub.status.idle": "2024-04-24T16:10:17.438490Z",
          "shell.execute_reply.started": "2024-04-24T16:08:14.637518Z",
          "shell.execute_reply": "2024-04-24T16:10:17.437192Z"
        },
        "trusted": true,
        "id": "3sllDV8UFWuT"
      },
      "execution_count": null,
      "outputs": []
    },
    {
      "cell_type": "code",
      "source": [
        "# print cross-validation scores with linear kernel\n",
        "\n",
        "print('Stratified cross-validation scores with linear kernel:\\n\\n{}'.format(linear_scores))"
      ],
      "metadata": {
        "execution": {
          "iopub.status.busy": "2024-04-24T16:10:17.439971Z",
          "iopub.execute_input": "2024-04-24T16:10:17.440406Z",
          "iopub.status.idle": "2024-04-24T16:10:17.447544Z",
          "shell.execute_reply.started": "2024-04-24T16:10:17.440373Z",
          "shell.execute_reply": "2024-04-24T16:10:17.446055Z"
        },
        "trusted": true,
        "id": "Xy2MzpfWFWuT"
      },
      "execution_count": null,
      "outputs": []
    },
    {
      "cell_type": "code",
      "source": [
        "# print average cross-validation score with linear kernel\n",
        "\n",
        "print('Average stratified cross-validation score with linear kernel:{:.4f}'.format(linear_scores.mean()))"
      ],
      "metadata": {
        "execution": {
          "iopub.status.busy": "2024-04-24T16:10:17.448909Z",
          "iopub.execute_input": "2024-04-24T16:10:17.449419Z",
          "iopub.status.idle": "2024-04-24T16:10:17.462387Z",
          "shell.execute_reply.started": "2024-04-24T16:10:17.449365Z",
          "shell.execute_reply": "2024-04-24T16:10:17.461260Z"
        },
        "trusted": true,
        "id": "51tZrCWOFWuT"
      },
      "execution_count": null,
      "outputs": []
    },
    {
      "cell_type": "markdown",
      "source": [
        "**Xác thực chéo k-Fold được phân tầng với phân chia ngẫu nhiên với kernel rbf**"
      ],
      "metadata": {
        "id": "BuF347JnFWuT"
      }
    },
    {
      "cell_type": "code",
      "source": [
        "rbf_svc=SVC(kernel='rbf')\n",
        "\n",
        "\n",
        "rbf_scores = cross_val_score(rbf_svc, X, y, cv=kfold)"
      ],
      "metadata": {
        "execution": {
          "iopub.status.busy": "2024-04-24T16:10:17.464162Z",
          "iopub.execute_input": "2024-04-24T16:10:17.464649Z",
          "iopub.status.idle": "2024-04-24T16:10:22.340296Z",
          "shell.execute_reply.started": "2024-04-24T16:10:17.464609Z",
          "shell.execute_reply": "2024-04-24T16:10:22.338892Z"
        },
        "trusted": true,
        "id": "hjF-UjAoFWuT"
      },
      "execution_count": null,
      "outputs": []
    },
    {
      "cell_type": "code",
      "source": [
        "# print cross-validation scores with rbf kernel\n",
        "\n",
        "print('Stratified Cross-validation scores with rbf kernel:\\n\\n{}'.format(rbf_scores))"
      ],
      "metadata": {
        "execution": {
          "iopub.status.busy": "2024-04-24T16:10:22.342170Z",
          "iopub.execute_input": "2024-04-24T16:10:22.342676Z",
          "iopub.status.idle": "2024-04-24T16:10:22.349606Z",
          "shell.execute_reply.started": "2024-04-24T16:10:22.342635Z",
          "shell.execute_reply": "2024-04-24T16:10:22.348601Z"
        },
        "trusted": true,
        "id": "nG0LIYW0FWuT"
      },
      "execution_count": null,
      "outputs": []
    },
    {
      "cell_type": "code",
      "source": [
        "# print average cross-validation score with rbf kernel\n",
        "\n",
        "print('Average stratified cross-validation score with rbf kernel:{:.4f}'.format(rbf_scores.mean()))"
      ],
      "metadata": {
        "execution": {
          "iopub.status.busy": "2024-04-24T16:10:22.351249Z",
          "iopub.execute_input": "2024-04-24T16:10:22.351580Z",
          "iopub.status.idle": "2024-04-24T16:10:22.363288Z",
          "shell.execute_reply.started": "2024-04-24T16:10:22.351543Z",
          "shell.execute_reply": "2024-04-24T16:10:22.362182Z"
        },
        "trusted": true,
        "id": "LMXBNp1BFWuU"
      },
      "execution_count": null,
      "outputs": []
    },
    {
      "cell_type": "markdown",
      "source": [
        "**Nhận xét**\n",
        "\n",
        "Ta đạt được điểm số trung bình cao hơn của kiểm tra chéo stratified k-fold là 0.9789 với kernel tuyến tính nhưng độ chính xác của mô hình là 0.9832. Vì vậy, kỹ thuật kiểm tra chéo stratified không giúp cải thiện hiệu suất của mô hình."
      ],
      "metadata": {
        "id": "WZkmbsDfFWuU"
      }
    },
    {
      "cell_type": "markdown",
      "source": [
        "# 19. Tối ưu hóa siêu tham số bằng CV GridSearch"
      ],
      "metadata": {
        "id": "FDgNUdkWFWuU"
      }
    },
    {
      "cell_type": "code",
      "source": [
        "# import GridSearchCV\n",
        "from sklearn.model_selection import GridSearchCV\n",
        "\n",
        "\n",
        "# import SVC classifier\n",
        "from sklearn.svm import SVC\n",
        "\n",
        "\n",
        "# instantiate classifier with default hyperparameters with kernel=rbf, C=1.0 and gamma=auto\n",
        "svc=SVC()\n",
        "\n",
        "\n",
        "\n",
        "# declare parameters for hyperparameter tuning\n",
        "parameters = [ {'C':[1, 10, 100, 1000], 'kernel':['linear']},\n",
        "               {'C':[1, 10, 100, 1000], 'kernel':['rbf'], 'gamma':[0.1, 0.2, 0.3, 0.4, 0.5, 0.6, 0.7, 0.8, 0.9]},\n",
        "               {'C':[1, 10, 100, 1000], 'kernel':['poly'], 'degree': [2,3,4] ,'gamma':[0.01,0.02,0.03,0.04,0.05]}\n",
        "              ]\n",
        "\n",
        "\n",
        "\n",
        "\n",
        "grid_search = GridSearchCV(estimator = svc,\n",
        "                           param_grid = parameters,\n",
        "                           scoring = 'accuracy',\n",
        "                           cv = 5,\n",
        "                           verbose=0)\n",
        "\n",
        "\n",
        "grid_search.fit(X_train, y_train)"
      ],
      "metadata": {
        "execution": {
          "iopub.status.busy": "2024-04-24T16:10:22.364251Z",
          "iopub.execute_input": "2024-04-24T16:10:22.364559Z",
          "iopub.status.idle": "2024-04-24T16:26:10.369221Z",
          "shell.execute_reply.started": "2024-04-24T16:10:22.364533Z",
          "shell.execute_reply": "2024-04-24T16:26:10.367271Z"
        },
        "trusted": true,
        "id": "quJSqTsuFWuU"
      },
      "execution_count": null,
      "outputs": []
    },
    {
      "cell_type": "code",
      "source": [
        "# examine the best model\n",
        "\n",
        "\n",
        "# best score achieved during the GridSearchCV\n",
        "print('GridSearch CV best score : {:.4f}\\n\\n'.format(grid_search.best_score_))\n",
        "\n",
        "\n",
        "# print parameters that give the best results\n",
        "print('Parameters that give the best results :','\\n\\n', (grid_search.best_params_))\n",
        "\n",
        "\n",
        "# print estimator that was chosen by the GridSearch\n",
        "print('\\n\\nEstimator that was chosen by the search :','\\n\\n', (grid_search.best_estimator_))"
      ],
      "metadata": {
        "execution": {
          "iopub.status.busy": "2024-04-24T16:26:10.371587Z",
          "iopub.execute_input": "2024-04-24T16:26:10.372095Z",
          "iopub.status.idle": "2024-04-24T16:26:10.380230Z",
          "shell.execute_reply.started": "2024-04-24T16:26:10.372059Z",
          "shell.execute_reply": "2024-04-24T16:26:10.378917Z"
        },
        "trusted": true,
        "id": "GO0MDaKpFWuU"
      },
      "execution_count": null,
      "outputs": []
    },
    {
      "cell_type": "code",
      "source": [
        "# calculate GridSearch CV score on test set\n",
        "\n",
        "print('GridSearch CV score on test set: {0:0.4f}'.format(grid_search.score(X_test, y_test)))"
      ],
      "metadata": {
        "execution": {
          "iopub.status.busy": "2024-04-24T16:45:37.567790Z",
          "iopub.execute_input": "2024-04-24T16:45:37.568266Z",
          "iopub.status.idle": "2024-04-24T16:45:37.760686Z",
          "shell.execute_reply.started": "2024-04-24T16:45:37.568224Z",
          "shell.execute_reply": "2024-04-24T16:45:37.759497Z"
        },
        "trusted": true,
        "id": "_XHaQZ3OFWuU"
      },
      "execution_count": null,
      "outputs": []
    },
    {
      "cell_type": "markdown",
      "source": [
        "**Nhận xét**\n",
        "\n",
        "* Độ chính xác kiểm tra của mô hình gốc là 0.9832 trong khi điểm số của GridSearch CV trên tập kiểm tra là 0.9835.\n",
        "* Vì vậy, GridSearch CV giúp xác định các tham số sẽ cải thiện hiệu suất cho mô hình cụ thể này.\n",
        "* Ở đây, chúng ta không nên nhầm lẫn thuộc tính best_score_ của grid_search với phương thức score trên tập kiểm tra.\n",
        "* Phương thức score trên tập kiểm tra cho ta hiệu suất tổng quát của mô hình. Bằng cách sử dụng phương thức score, chúng ta áp dụng một mô hình được huấn luyện trên toàn bộ tập huấn luyện.\n",
        "* Thuộc tính best_score_ cho ta điểm số trung bình của kiểm tra chéo, với kiểm tra chéo được thực hiện trên tập huấn luyện.\n"
      ],
      "metadata": {
        "id": "32vCnBUCFWuU"
      }
    },
    {
      "cell_type": "markdown",
      "source": [
        "# 20. Tài liệu tham khảo\n",
        "1. [Kernel SVM - Machine Learning cơ bản - Vũ Hữu Tiệp](https://machinelearningcoban.com/2017/04/22/kernelsmv/)\n",
        "2. [Support vector machine - Wikipedia](https://en.wikipedia.org/wiki/Support_vector_machine)\n",
        "3. [Scikit-learn  SVM Tutorial with Python (Support Vector Machines)  | DataCamp](https://www.datacamp.com/tutorial/svm-classification-scikit-learn-python)\n",
        "4. [SVM CLASSIFIER, INTRODUCTION TO SUPPORT VECTOR MACHINE ALGORITHM](https://dataaspirant.com/support-vector-machine-algorithm/)\n",
        "5. [Kernel Functions-Introduction to SVM Kernel & Examples](https://data-flair.training/blogs/svm-kernel-functions/)\n",
        "6. [SVM Classifier Tutorial](https://www.kaggle.com/code/prashant111/svm-classifier-tutorial/notebook)"
      ],
      "metadata": {
        "id": "VKNacd8pFWuV"
      }
    },
    {
      "cell_type": "code",
      "source": [],
      "metadata": {
        "id": "VkgILOhoFWuV"
      },
      "execution_count": null,
      "outputs": []
    },
    {
      "cell_type": "code",
      "source": [],
      "metadata": {
        "id": "BXRNc0tkFWuV"
      },
      "execution_count": null,
      "outputs": []
    },
    {
      "cell_type": "code",
      "source": [],
      "metadata": {
        "id": "T8kxjvpIFWuV"
      },
      "execution_count": null,
      "outputs": []
    },
    {
      "cell_type": "code",
      "source": [],
      "metadata": {
        "id": "yuHlkCGAFWuV"
      },
      "execution_count": null,
      "outputs": []
    }
  ]
}